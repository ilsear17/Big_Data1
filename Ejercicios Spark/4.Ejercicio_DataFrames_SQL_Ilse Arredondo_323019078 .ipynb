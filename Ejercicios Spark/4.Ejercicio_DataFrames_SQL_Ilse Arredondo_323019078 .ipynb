{
 "cells": [
  {
   "cell_type": "markdown",
   "id": "e2c6ce4e",
   "metadata": {
    "id": "e2c6ce4e"
   },
   "source": [
    "# Ejercicio aplicado de DataFrames y Spark SQL. Ilse Arredondo Reyes. 323019078"
   ]
  },
  {
   "cell_type": "code",
   "execution_count": 1,
   "id": "6444aae7",
   "metadata": {
    "id": "6444aae7"
   },
   "outputs": [],
   "source": [
    "import findspark\n",
    "findspark.init()\n",
    "\n",
    "import pandas as pd\n",
    "import pyspark"
   ]
  },
  {
   "cell_type": "code",
   "execution_count": 2,
   "id": "2a099cd1",
   "metadata": {
    "id": "2a099cd1"
   },
   "outputs": [],
   "source": [
    "from pyspark.sql import SparkSession\n",
    "\n",
    "spark = SparkSession.builder\\\n",
    "        .master(\"local[*]\")\\\n",
    "        .appName('PySpark_Df')\\\n",
    "        .getOrCreate()"
   ]
  },
  {
   "cell_type": "code",
   "execution_count": 21,
   "id": "fe079827",
   "metadata": {},
   "outputs": [
    {
     "name": "stdout",
     "output_type": "stream",
     "text": [
      "+-------+-------+-------------+-------------------+-------+------------+-----------------+--------+---------+\n",
      "|RoundID|MatchID|Team Initials|         Coach Name|Line-up|Shirt Number|      Player Name|Position|    Event|\n",
      "+-------+-------+-------------+-------------------+-------+------------+-----------------+--------+---------+\n",
      "|    201|   1096|          FRA|CAUDRON Raoul (FRA)|      S|           0|      Alex THEPOT|      GK|     null|\n",
      "|    201|   1096|          MEX|   LUQUE Juan (MEX)|      S|           0|  Oscar BONFIGLIO|      GK|     null|\n",
      "|    201|   1096|          FRA|CAUDRON Raoul (FRA)|      S|           0| Marcel LANGILLER|    null|     G40'|\n",
      "|    201|   1096|          MEX|   LUQUE Juan (MEX)|      S|           0|     Juan CARRENO|    null|     G70'|\n",
      "|    201|   1096|          FRA|CAUDRON Raoul (FRA)|      S|           0|  Ernest LIBERATI|    null|     null|\n",
      "|    201|   1096|          MEX|   LUQUE Juan (MEX)|      S|           0|     Rafael GARZA|       C|     null|\n",
      "|    201|   1096|          FRA|CAUDRON Raoul (FRA)|      S|           0|  Andre MASCHINOT|    null|G43' G87'|\n",
      "|    201|   1096|          MEX|   LUQUE Juan (MEX)|      S|           0|    Hilario LOPEZ|    null|     null|\n",
      "|    201|   1096|          FRA|CAUDRON Raoul (FRA)|      S|           0|  Etienne MATTLER|    null|     null|\n",
      "|    201|   1096|          MEX|   LUQUE Juan (MEX)|      S|           0|   Dionisio MEJIA|    null|     null|\n",
      "|    201|   1096|          FRA|CAUDRON Raoul (FRA)|      S|           0|     Marcel PINEL|    null|     null|\n",
      "|    201|   1096|          MEX|   LUQUE Juan (MEX)|      S|           0|     Felipe ROSAS|    null|     null|\n",
      "|    201|   1096|          FRA|CAUDRON Raoul (FRA)|      S|           0|  Alex VILLAPLANE|       C|     null|\n",
      "|    201|   1096|          MEX|   LUQUE Juan (MEX)|      S|           0|     Manuel ROSAS|    null|     null|\n",
      "|    201|   1096|          FRA|CAUDRON Raoul (FRA)|      S|           0|   Lucien LAURENT|    null|     G19'|\n",
      "|    201|   1096|          MEX|   LUQUE Juan (MEX)|      S|           0|        Jose RUIZ|    null|     null|\n",
      "|    201|   1096|          FRA|CAUDRON Raoul (FRA)|      S|           0|   Marcel CAPELLE|    null|     null|\n",
      "|    201|   1096|          MEX|   LUQUE Juan (MEX)|      S|           0|  Alfredo SANCHEZ|    null|     null|\n",
      "|    201|   1096|          FRA|CAUDRON Raoul (FRA)|      S|           0|Augustin CHANTREL|    null|     null|\n",
      "|    201|   1096|          MEX|   LUQUE Juan (MEX)|      S|           0|   Efrain AMEZCUA|    null|     null|\n",
      "+-------+-------+-------------+-------------------+-------+------------+-----------------+--------+---------+\n",
      "only showing top 20 rows\n",
      "\n"
     ]
    }
   ],
   "source": [
    "## Importa el csv de \"data/WorldCupPlayers.csv\"\n",
    "## Visualiza los datos\n",
    "\n",
    "df = spark.read.csv('C:/Users/ilse-/BIG DATA EJERCICIOS/WorldCupPlayers.csv', header=True, inferSchema=True)\n",
    "df.show()"
   ]
  },
  {
   "cell_type": "code",
   "execution_count": 24,
   "id": "74516118",
   "metadata": {
    "id": "74516118"
   },
   "outputs": [
    {
     "data": {
      "text/plain": [
       "[('RoundID', 'int'),\n",
       " ('MatchID', 'int'),\n",
       " ('Team Initials', 'string'),\n",
       " ('Coach Name', 'string'),\n",
       " ('Line-up', 'string'),\n",
       " ('Shirt Number', 'int'),\n",
       " ('Player Name', 'string'),\n",
       " ('Position', 'string'),\n",
       " ('Event', 'string')]"
      ]
     },
     "execution_count": 24,
     "metadata": {},
     "output_type": "execute_result"
    }
   ],
   "source": [
    "## ¿que tipo de datos contiene cada variable?\n",
    "\n",
    "df.dtypes"
   ]
  },
  {
   "cell_type": "code",
   "execution_count": 23,
   "id": "58248b51",
   "metadata": {
    "id": "58248b51"
   },
   "outputs": [
    {
     "data": {
      "text/plain": [
       "37784"
      ]
     },
     "execution_count": 23,
     "metadata": {},
     "output_type": "execute_result"
    }
   ],
   "source": [
    "## ¿Cuantos registros hay?\n",
    "df.count()"
   ]
  },
  {
   "cell_type": "code",
   "execution_count": 77,
   "id": "514be43a",
   "metadata": {
    "id": "514be43a"
   },
   "outputs": [
    {
     "name": "stdout",
     "output_type": "stream",
     "text": [
      "+-------+--------+\n",
      "|summary|Position|\n",
      "+-------+--------+\n",
      "|  count|    4143|\n",
      "|   mean|    null|\n",
      "| stddev|    null|\n",
      "|    min|       C|\n",
      "|    max|     GKC|\n",
      "+-------+--------+\n",
      "\n"
     ]
    }
   ],
   "source": [
    "## Obtén los principales estadísticos de Position\n",
    "df.describe('Position').show()"
   ]
  },
  {
   "cell_type": "code",
   "execution_count": 78,
   "id": "c2b86748",
   "metadata": {
    "id": "c2b86748"
   },
   "outputs": [
    {
     "name": "stdout",
     "output_type": "stream",
     "text": [
      "+--------------------+--------------------+\n",
      "|         Player Name|          Coach Name|\n",
      "+--------------------+--------------------+\n",
      "|    Arturo FERNANDEZ| BRU Francisco (ESP)|\n",
      "|Cayetano CARRERAS...|DURAND LAGUNA Jos...|\n",
      "|  Ernesto MASCHERONI|SUPPICI Alberto (...|\n",
      "|          Aziz FAHMY|   McREA James (SCO)|\n",
      "|        Gyula POLGAR|    NADAS Odon (HUN)|\n",
      "|  Ernesto ALBARRACIN|PASCUCCI Felipe (...|\n",
      "| Armando CASTELLAZZI|POZZO Vittorio (ITA)|\n",
      "|     Jaroslav BOUCEK|   PETRU Karel (TCH)|\n",
      "|           Erwin NYC|  KALUZA Jozef (POL)|\n",
      "|     Stanislaw BARAN|  KALUZA Jozef (POL)|\n",
      "|     Fernando ROLDAN|BUCCIARDI Arturo ...|\n",
      "|            Joe MACA|  JEFFREY Bill (SCO)|\n",
      "|               INDIO|  MOREIRA Zeze (BRA)|\n",
      "|      Rene DEREUDDRE|PIBAROT Pierre (FRA)|\n",
      "|    Anton MALATINSKY|    CEJP Josef (TCH)|\n",
      "|    Alberto MARIOTTI|LORENZO Juan Carl...|\n",
      "|  Alfredo DI STEFANO|HERRERA Helenio (...|\n",
      "|             FIDELIS| FEOLA Vicente (BRA)|\n",
      "|     Stoyan YORDANOV|BOZHKOV Stefan (BUL)|\n",
      "|      Wim RIJSBERGEN| MICHELS Rinus (NED)|\n",
      "+--------------------+--------------------+\n",
      "only showing top 20 rows\n",
      "\n"
     ]
    }
   ],
   "source": [
    "## Selecciona y muestra los registros distintos de 'Player Name','Coach Name'\n",
    "df.select(\"Player Name\", \"Coach Name\").distinct().show()"
   ]
  },
  {
   "cell_type": "code",
   "execution_count": 79,
   "id": "74d787f0",
   "metadata": {
    "id": "74d787f0"
   },
   "outputs": [
    {
     "data": {
      "text/plain": [
       "33"
      ]
     },
     "execution_count": 79,
     "metadata": {},
     "output_type": "execute_result"
    }
   ],
   "source": [
    "## ¿Cuantos partidos con el ID de 1096 ha habido?\n",
    "df.filter(df[\"MatchID\"] == 1096).count()"
   ]
  },
  {
   "cell_type": "code",
   "execution_count": 99,
   "id": "a4d33331",
   "metadata": {
    "id": "a4d33331",
    "scrolled": true
   },
   "outputs": [
    {
     "name": "stdout",
     "output_type": "stream",
     "text": [
      "+-------+-------+-------------+--------------------+-------+------------+----------------+--------+-----+\n",
      "|RoundID|MatchID|Team Initials|          Coach Name|Line-up|Shirt Number|     Player Name|Position|Event|\n",
      "+-------+-------+-------------+--------------------+-------+------------+----------------+--------+-----+\n",
      "|    201|   1089|          PAR|DURAND LAGUNA Jos...|      S|           0|Luis VARGAS PENA|       C| G40'|\n",
      "|    429|   1175|          HUN|  DIETZ Karoly (HUN)|      S|           0|   Gyorgy SAROSI|       C| G40'|\n",
      "+-------+-------+-------------+--------------------+-------+------------+----------------+--------+-----+\n",
      "\n"
     ]
    }
   ],
   "source": [
    "## Muestra los datos donde la posicion haya sido C y el evento sea G40\n",
    "df.filter((df.Position == 'C') & (df.Event==\"G40'\")).show()"
   ]
  },
  {
   "cell_type": "code",
   "execution_count": 100,
   "id": "f4a2c096",
   "metadata": {
    "id": "f4a2c096"
   },
   "outputs": [
    {
     "name": "stdout",
     "output_type": "stream",
     "text": [
      "+-------+-------+-------------+-------------------+-------+------------+-----------------+--------+---------+\n",
      "|RoundID|MatchID|Team Initials|         Coach Name|Line-up|Shirt Number|      Player Name|Position|    Event|\n",
      "+-------+-------+-------------+-------------------+-------+------------+-----------------+--------+---------+\n",
      "|    201|   1096|          FRA|CAUDRON Raoul (FRA)|      S|           0|      Alex THEPOT|      GK|     null|\n",
      "|    201|   1096|          MEX|   LUQUE Juan (MEX)|      S|           0|  Oscar BONFIGLIO|      GK|     null|\n",
      "|    201|   1096|          FRA|CAUDRON Raoul (FRA)|      S|           0| Marcel LANGILLER|    null|     G40'|\n",
      "|    201|   1096|          MEX|   LUQUE Juan (MEX)|      S|           0|     Juan CARRENO|    null|     G70'|\n",
      "|    201|   1096|          FRA|CAUDRON Raoul (FRA)|      S|           0|  Ernest LIBERATI|    null|     null|\n",
      "|    201|   1096|          MEX|   LUQUE Juan (MEX)|      S|           0|     Rafael GARZA|       C|     null|\n",
      "|    201|   1096|          FRA|CAUDRON Raoul (FRA)|      S|           0|  Andre MASCHINOT|    null|G43' G87'|\n",
      "|    201|   1096|          MEX|   LUQUE Juan (MEX)|      S|           0|    Hilario LOPEZ|    null|     null|\n",
      "|    201|   1096|          FRA|CAUDRON Raoul (FRA)|      S|           0|  Etienne MATTLER|    null|     null|\n",
      "|    201|   1096|          MEX|   LUQUE Juan (MEX)|      S|           0|   Dionisio MEJIA|    null|     null|\n",
      "|    201|   1096|          FRA|CAUDRON Raoul (FRA)|      S|           0|     Marcel PINEL|    null|     null|\n",
      "|    201|   1096|          MEX|   LUQUE Juan (MEX)|      S|           0|     Felipe ROSAS|    null|     null|\n",
      "|    201|   1096|          FRA|CAUDRON Raoul (FRA)|      S|           0|  Alex VILLAPLANE|       C|     null|\n",
      "|    201|   1096|          MEX|   LUQUE Juan (MEX)|      S|           0|     Manuel ROSAS|    null|     null|\n",
      "|    201|   1096|          FRA|CAUDRON Raoul (FRA)|      S|           0|   Lucien LAURENT|    null|     G19'|\n",
      "|    201|   1096|          MEX|   LUQUE Juan (MEX)|      S|           0|        Jose RUIZ|    null|     null|\n",
      "|    201|   1096|          FRA|CAUDRON Raoul (FRA)|      S|           0|   Marcel CAPELLE|    null|     null|\n",
      "|    201|   1096|          MEX|   LUQUE Juan (MEX)|      S|           0|  Alfredo SANCHEZ|    null|     null|\n",
      "|    201|   1096|          FRA|CAUDRON Raoul (FRA)|      S|           0|Augustin CHANTREL|    null|     null|\n",
      "|    201|   1096|          MEX|   LUQUE Juan (MEX)|      S|           0|   Efrain AMEZCUA|    null|     null|\n",
      "+-------+-------+-------------+-------------------+-------+------------+-----------------+--------+---------+\n",
      "only showing top 20 rows\n",
      "\n"
     ]
    }
   ],
   "source": [
    "## Utiliza Spark SQL para mostras los registros donde el MatchID sea mayor o igual a 20\n",
    "df.createOrReplaceTempView(\"df\")\n",
    "spark.sql(\"select * from df where MatchID >= 20\").show()"
   ]
  }
 ],
 "metadata": {
  "colab": {
   "provenance": []
  },
  "kernelspec": {
   "display_name": "Python 3 (ipykernel)",
   "language": "python",
   "name": "python3"
  },
  "language_info": {
   "codemirror_mode": {
    "name": "ipython",
    "version": 3
   },
   "file_extension": ".py",
   "mimetype": "text/x-python",
   "name": "python",
   "nbconvert_exporter": "python",
   "pygments_lexer": "ipython3",
   "version": "3.10.13"
  }
 },
 "nbformat": 4,
 "nbformat_minor": 5
}
