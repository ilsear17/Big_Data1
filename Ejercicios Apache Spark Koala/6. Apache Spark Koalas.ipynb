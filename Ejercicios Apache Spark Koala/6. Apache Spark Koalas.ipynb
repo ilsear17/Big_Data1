{
 "cells": [
  {
   "cell_type": "markdown",
   "metadata": {},
   "source": [
    "# Apache Spark Koalas"
   ]
  },
  {
   "cell_type": "markdown",
   "metadata": {},
   "source": [
    "Este notebook contiene las funciones principales de Koalas, obtenidas de la documentación oficial de https://koalas.readthedocs.io/"
   ]
  },
  {
   "cell_type": "code",
   "execution_count": 1,
   "metadata": {},
   "outputs": [
    {
     "name": "stdout",
     "output_type": "stream",
     "text": [
      "Requirement already satisfied: findspark in c:\\users\\ilse-\\anaconda3\\envs\\bigdata2\\lib\\site-packages (2.0.1)\n",
      "Note: you may need to restart the kernel to use updated packages.\n"
     ]
    }
   ],
   "source": [
    "pip install findspark"
   ]
  },
  {
   "cell_type": "code",
   "execution_count": 2,
   "metadata": {},
   "outputs": [
    {
     "name": "stdout",
     "output_type": "stream",
     "text": [
      "Requirement already satisfied: pyspark==2.4.4 in c:\\users\\ilse-\\anaconda3\\envs\\bigdata2\\lib\\site-packages (2.4.4)\n",
      "Requirement already satisfied: py4j==0.10.7 in c:\\users\\ilse-\\anaconda3\\envs\\bigdata2\\lib\\site-packages (from pyspark==2.4.4) (0.10.7)\n",
      "Note: you may need to restart the kernel to use updated packages.\n"
     ]
    }
   ],
   "source": [
    "pip install pyspark==2.4.4"
   ]
  },
  {
   "cell_type": "code",
   "execution_count": 3,
   "metadata": {},
   "outputs": [
    {
     "name": "stdout",
     "output_type": "stream",
     "text": [
      "Requirement already satisfied: koalas in c:\\users\\ilse-\\anaconda3\\envs\\bigdata2\\lib\\site-packages (1.8.2)\n",
      "Requirement already satisfied: pandas>=0.23.2 in c:\\users\\ilse-\\anaconda3\\envs\\bigdata2\\lib\\site-packages (from koalas) (1.1.5)\n",
      "Requirement already satisfied: numpy>=1.14 in c:\\users\\ilse-\\anaconda3\\envs\\bigdata2\\lib\\site-packages (from koalas) (1.19.5)\n",
      "Requirement already satisfied: pyarrow>=0.10 in c:\\users\\ilse-\\anaconda3\\envs\\bigdata2\\lib\\site-packages (from koalas) (6.0.1)\n",
      "Requirement already satisfied: pytz>=2017.2 in c:\\users\\ilse-\\anaconda3\\envs\\bigdata2\\lib\\site-packages (from pandas>=0.23.2->koalas) (2023.3.post1)\n",
      "Requirement already satisfied: python-dateutil>=2.7.3 in c:\\users\\ilse-\\anaconda3\\envs\\bigdata2\\lib\\site-packages (from pandas>=0.23.2->koalas) (2.8.2)\n",
      "Requirement already satisfied: six>=1.5 in c:\\users\\ilse-\\anaconda3\\envs\\bigdata2\\lib\\site-packages (from python-dateutil>=2.7.3->pandas>=0.23.2->koalas) (1.16.0)\n",
      "Note: you may need to restart the kernel to use updated packages.\n"
     ]
    }
   ],
   "source": [
    "pip install koalas"
   ]
  },
  {
   "cell_type": "code",
   "execution_count": 4,
   "metadata": {},
   "outputs": [
    {
     "name": "stdout",
     "output_type": "stream",
     "text": [
      "Requirement already satisfied: plotly in c:\\users\\ilse-\\anaconda3\\envs\\bigdata2\\lib\\site-packages (5.6.0)\n",
      "Requirement already satisfied: six in c:\\users\\ilse-\\anaconda3\\envs\\bigdata2\\lib\\site-packages (from plotly) (1.16.0)\n",
      "Requirement already satisfied: tenacity>=6.2.0 in c:\\users\\ilse-\\anaconda3\\envs\\bigdata2\\lib\\site-packages (from plotly) (8.0.1)\n",
      "Note: you may need to restart the kernel to use updated packages.\n"
     ]
    }
   ],
   "source": [
    "pip install plotly\n"
   ]
  },
  {
   "cell_type": "code",
   "execution_count": 5,
   "metadata": {},
   "outputs": [
    {
     "name": "stdout",
     "output_type": "stream",
     "text": [
      "Note: you may need to restart the kernel to use updated packages.\n"
     ]
    }
   ],
   "source": [
    "pip install nbformat>=4.2.0"
   ]
  },
  {
   "cell_type": "code",
   "execution_count": 6,
   "metadata": {},
   "outputs": [
    {
     "data": {
      "text/plain": [
       "'c:\\\\Users\\\\ilse-\\\\anaconda3\\\\envs\\\\bigdata2\\\\python.exe'"
      ]
     },
     "execution_count": 6,
     "metadata": {},
     "output_type": "execute_result"
    }
   ],
   "source": [
    "import sys\n",
    "sys.executable"
   ]
  },
  {
   "cell_type": "code",
   "execution_count": 7,
   "metadata": {},
   "outputs": [
    {
     "name": "stderr",
     "output_type": "stream",
     "text": [
      "WARNING:root:'ARROW_PRE_0_15_IPC_FORMAT' environment variable was not set. It is required to set this environment variable to '1' in both driver and executor sides if you use pyarrow>=0.15 and pyspark<3.0. Koalas will set it for you but it does not work if there is a Spark context already launched.\n",
      "WARNING:root:'PYARROW_IGNORE_TIMEZONE' environment variable was not set. It is required to set this environment variable to '1' in both driver and executor sides if you use pyarrow>=2.0.0. Koalas will set it for you but it does not work if there is a Spark context already launched.\n"
     ]
    }
   ],
   "source": [
    "import findspark\n",
    "findspark.init()\n",
    "\n",
    "import pandas as pd\n",
    "import pyspark\n",
    "\n",
    "import pandas as pd\n",
    "import numpy as np\n",
    "import databricks.koalas as ks\n",
    "from pyspark.sql import SparkSession"
   ]
  },
  {
   "cell_type": "markdown",
   "metadata": {},
   "source": [
    "### 1. Creación de objetos\n",
    "\n"
   ]
  },
  {
   "cell_type": "markdown",
   "metadata": {},
   "source": [
    "Creando una serie Koalas pasando una lista de valores, permitiendo que Koalas cree un índice entero predeterminado:"
   ]
  },
  {
   "cell_type": "code",
   "execution_count": 8,
   "metadata": {},
   "outputs": [],
   "source": [
    "s = ks.Series([1, 3, 5, np.nan, 6, 8])"
   ]
  },
  {
   "cell_type": "code",
   "execution_count": 9,
   "metadata": {},
   "outputs": [
    {
     "data": {
      "text/plain": [
       "0    1.0\n",
       "1    3.0\n",
       "2    5.0\n",
       "3    NaN\n",
       "4    6.0\n",
       "5    8.0\n",
       "dtype: float64"
      ]
     },
     "execution_count": 9,
     "metadata": {},
     "output_type": "execute_result"
    }
   ],
   "source": [
    "s"
   ]
  },
  {
   "cell_type": "markdown",
   "metadata": {},
   "source": [
    "Creando un Koalas DataFrame pasando un dict de objetos que se pueden convertir a series."
   ]
  },
  {
   "cell_type": "code",
   "execution_count": 10,
   "metadata": {},
   "outputs": [],
   "source": [
    "kdf = ks.DataFrame(\n",
    "    {'a': [1, 2, 3, 4, 5, 6],\n",
    "     'b': [100, 200, 300, 400, 500, 600],\n",
    "     'c': [\"one\", \"two\", \"three\", \"four\", \"five\", \"six\"]},\n",
    "    index=[10, 20, 30, 40, 50, 60])"
   ]
  },
  {
   "cell_type": "code",
   "execution_count": 11,
   "metadata": {},
   "outputs": [
    {
     "data": {
      "text/html": [
       "<div>\n",
       "<style scoped>\n",
       "    .dataframe tbody tr th:only-of-type {\n",
       "        vertical-align: middle;\n",
       "    }\n",
       "\n",
       "    .dataframe tbody tr th {\n",
       "        vertical-align: top;\n",
       "    }\n",
       "\n",
       "    .dataframe thead th {\n",
       "        text-align: right;\n",
       "    }\n",
       "</style>\n",
       "<table border=\"1\" class=\"dataframe\">\n",
       "  <thead>\n",
       "    <tr style=\"text-align: right;\">\n",
       "      <th></th>\n",
       "      <th>a</th>\n",
       "      <th>b</th>\n",
       "      <th>c</th>\n",
       "    </tr>\n",
       "  </thead>\n",
       "  <tbody>\n",
       "    <tr>\n",
       "      <th>10</th>\n",
       "      <td>1</td>\n",
       "      <td>100</td>\n",
       "      <td>one</td>\n",
       "    </tr>\n",
       "    <tr>\n",
       "      <th>20</th>\n",
       "      <td>2</td>\n",
       "      <td>200</td>\n",
       "      <td>two</td>\n",
       "    </tr>\n",
       "    <tr>\n",
       "      <th>30</th>\n",
       "      <td>3</td>\n",
       "      <td>300</td>\n",
       "      <td>three</td>\n",
       "    </tr>\n",
       "    <tr>\n",
       "      <th>40</th>\n",
       "      <td>4</td>\n",
       "      <td>400</td>\n",
       "      <td>four</td>\n",
       "    </tr>\n",
       "    <tr>\n",
       "      <th>50</th>\n",
       "      <td>5</td>\n",
       "      <td>500</td>\n",
       "      <td>five</td>\n",
       "    </tr>\n",
       "    <tr>\n",
       "      <th>60</th>\n",
       "      <td>6</td>\n",
       "      <td>600</td>\n",
       "      <td>six</td>\n",
       "    </tr>\n",
       "  </tbody>\n",
       "</table>\n",
       "</div>"
      ],
      "text/plain": [
       "    a    b      c\n",
       "10  1  100    one\n",
       "20  2  200    two\n",
       "30  3  300  three\n",
       "40  4  400   four\n",
       "50  5  500   five\n",
       "60  6  600    six"
      ]
     },
     "execution_count": 11,
     "metadata": {},
     "output_type": "execute_result"
    }
   ],
   "source": [
    "kdf"
   ]
  },
  {
   "cell_type": "markdown",
   "metadata": {},
   "source": [
    "Creando un DataFrame de pandas pasando una matriz numpy, con un índice de fecha y hora y columnas etiquetadas:"
   ]
  },
  {
   "cell_type": "code",
   "execution_count": 12,
   "metadata": {},
   "outputs": [],
   "source": [
    "dates = pd.date_range('20130101', periods=6)"
   ]
  },
  {
   "cell_type": "code",
   "execution_count": 13,
   "metadata": {},
   "outputs": [
    {
     "data": {
      "text/plain": [
       "DatetimeIndex(['2013-01-01', '2013-01-02', '2013-01-03', '2013-01-04',\n",
       "               '2013-01-05', '2013-01-06'],\n",
       "              dtype='datetime64[ns]', freq='D')"
      ]
     },
     "execution_count": 13,
     "metadata": {},
     "output_type": "execute_result"
    }
   ],
   "source": [
    "dates"
   ]
  },
  {
   "cell_type": "code",
   "execution_count": 14,
   "metadata": {},
   "outputs": [],
   "source": [
    "pdf = pd.DataFrame(np.random.randn(6, 4), index=dates, columns=list('ABCD'))"
   ]
  },
  {
   "cell_type": "code",
   "execution_count": 15,
   "metadata": {},
   "outputs": [
    {
     "data": {
      "text/html": [
       "<div>\n",
       "<style scoped>\n",
       "    .dataframe tbody tr th:only-of-type {\n",
       "        vertical-align: middle;\n",
       "    }\n",
       "\n",
       "    .dataframe tbody tr th {\n",
       "        vertical-align: top;\n",
       "    }\n",
       "\n",
       "    .dataframe thead th {\n",
       "        text-align: right;\n",
       "    }\n",
       "</style>\n",
       "<table border=\"1\" class=\"dataframe\">\n",
       "  <thead>\n",
       "    <tr style=\"text-align: right;\">\n",
       "      <th></th>\n",
       "      <th>A</th>\n",
       "      <th>B</th>\n",
       "      <th>C</th>\n",
       "      <th>D</th>\n",
       "    </tr>\n",
       "  </thead>\n",
       "  <tbody>\n",
       "    <tr>\n",
       "      <th>2013-01-01</th>\n",
       "      <td>0.844484</td>\n",
       "      <td>0.759189</td>\n",
       "      <td>0.839813</td>\n",
       "      <td>-1.348347</td>\n",
       "    </tr>\n",
       "    <tr>\n",
       "      <th>2013-01-02</th>\n",
       "      <td>2.261903</td>\n",
       "      <td>0.898440</td>\n",
       "      <td>3.788530</td>\n",
       "      <td>0.700702</td>\n",
       "    </tr>\n",
       "    <tr>\n",
       "      <th>2013-01-03</th>\n",
       "      <td>1.409467</td>\n",
       "      <td>-3.410261</td>\n",
       "      <td>0.184204</td>\n",
       "      <td>0.279708</td>\n",
       "    </tr>\n",
       "    <tr>\n",
       "      <th>2013-01-04</th>\n",
       "      <td>1.021139</td>\n",
       "      <td>-0.968900</td>\n",
       "      <td>1.286161</td>\n",
       "      <td>0.605943</td>\n",
       "    </tr>\n",
       "    <tr>\n",
       "      <th>2013-01-05</th>\n",
       "      <td>-1.226135</td>\n",
       "      <td>-0.422710</td>\n",
       "      <td>-0.013699</td>\n",
       "      <td>0.771648</td>\n",
       "    </tr>\n",
       "    <tr>\n",
       "      <th>2013-01-06</th>\n",
       "      <td>1.122709</td>\n",
       "      <td>0.464276</td>\n",
       "      <td>1.198451</td>\n",
       "      <td>0.026688</td>\n",
       "    </tr>\n",
       "  </tbody>\n",
       "</table>\n",
       "</div>"
      ],
      "text/plain": [
       "                   A         B         C         D\n",
       "2013-01-01  0.844484  0.759189  0.839813 -1.348347\n",
       "2013-01-02  2.261903  0.898440  3.788530  0.700702\n",
       "2013-01-03  1.409467 -3.410261  0.184204  0.279708\n",
       "2013-01-04  1.021139 -0.968900  1.286161  0.605943\n",
       "2013-01-05 -1.226135 -0.422710 -0.013699  0.771648\n",
       "2013-01-06  1.122709  0.464276  1.198451  0.026688"
      ]
     },
     "execution_count": 15,
     "metadata": {},
     "output_type": "execute_result"
    }
   ],
   "source": [
    "pdf"
   ]
  },
  {
   "cell_type": "markdown",
   "metadata": {},
   "source": [
    "Ahora, este DataFrame de pandas se puede convertir en un DataFrame de Koalas"
   ]
  },
  {
   "cell_type": "code",
   "execution_count": 16,
   "metadata": {},
   "outputs": [],
   "source": [
    "kdf = ks.from_pandas(pdf)"
   ]
  },
  {
   "cell_type": "code",
   "execution_count": 17,
   "metadata": {},
   "outputs": [
    {
     "data": {
      "text/plain": [
       "databricks.koalas.frame.DataFrame"
      ]
     },
     "execution_count": 17,
     "metadata": {},
     "output_type": "execute_result"
    }
   ],
   "source": [
    "type(kdf)"
   ]
  },
  {
   "cell_type": "markdown",
   "metadata": {},
   "source": [
    "Sin embargo, se ve y se comporta igual que un DataFrame de pandas"
   ]
  },
  {
   "cell_type": "code",
   "execution_count": 18,
   "metadata": {
    "scrolled": true
   },
   "outputs": [
    {
     "data": {
      "text/html": [
       "<div>\n",
       "<style scoped>\n",
       "    .dataframe tbody tr th:only-of-type {\n",
       "        vertical-align: middle;\n",
       "    }\n",
       "\n",
       "    .dataframe tbody tr th {\n",
       "        vertical-align: top;\n",
       "    }\n",
       "\n",
       "    .dataframe thead th {\n",
       "        text-align: right;\n",
       "    }\n",
       "</style>\n",
       "<table border=\"1\" class=\"dataframe\">\n",
       "  <thead>\n",
       "    <tr style=\"text-align: right;\">\n",
       "      <th></th>\n",
       "      <th>A</th>\n",
       "      <th>B</th>\n",
       "      <th>C</th>\n",
       "      <th>D</th>\n",
       "    </tr>\n",
       "  </thead>\n",
       "  <tbody>\n",
       "    <tr>\n",
       "      <th>2013-01-01</th>\n",
       "      <td>0.844484</td>\n",
       "      <td>0.759189</td>\n",
       "      <td>0.839813</td>\n",
       "      <td>-1.348347</td>\n",
       "    </tr>\n",
       "    <tr>\n",
       "      <th>2013-01-02</th>\n",
       "      <td>2.261903</td>\n",
       "      <td>0.898440</td>\n",
       "      <td>3.788530</td>\n",
       "      <td>0.700702</td>\n",
       "    </tr>\n",
       "    <tr>\n",
       "      <th>2013-01-03</th>\n",
       "      <td>1.409467</td>\n",
       "      <td>-3.410261</td>\n",
       "      <td>0.184204</td>\n",
       "      <td>0.279708</td>\n",
       "    </tr>\n",
       "    <tr>\n",
       "      <th>2013-01-04</th>\n",
       "      <td>1.021139</td>\n",
       "      <td>-0.968900</td>\n",
       "      <td>1.286161</td>\n",
       "      <td>0.605943</td>\n",
       "    </tr>\n",
       "    <tr>\n",
       "      <th>2013-01-05</th>\n",
       "      <td>-1.226135</td>\n",
       "      <td>-0.422710</td>\n",
       "      <td>-0.013699</td>\n",
       "      <td>0.771648</td>\n",
       "    </tr>\n",
       "    <tr>\n",
       "      <th>2013-01-06</th>\n",
       "      <td>1.122709</td>\n",
       "      <td>0.464276</td>\n",
       "      <td>1.198451</td>\n",
       "      <td>0.026688</td>\n",
       "    </tr>\n",
       "  </tbody>\n",
       "</table>\n",
       "</div>"
      ],
      "text/plain": [
       "                   A         B         C         D\n",
       "2013-01-01  0.844484  0.759189  0.839813 -1.348347\n",
       "2013-01-02  2.261903  0.898440  3.788530  0.700702\n",
       "2013-01-03  1.409467 -3.410261  0.184204  0.279708\n",
       "2013-01-04  1.021139 -0.968900  1.286161  0.605943\n",
       "2013-01-05 -1.226135 -0.422710 -0.013699  0.771648\n",
       "2013-01-06  1.122709  0.464276  1.198451  0.026688"
      ]
     },
     "execution_count": 18,
     "metadata": {},
     "output_type": "execute_result"
    }
   ],
   "source": [
    "kdf"
   ]
  },
  {
   "cell_type": "markdown",
   "metadata": {},
   "source": [
    "Además, es posible crear un **Koalas DataFrame desde Spark DataFrame**.\n",
    "\n",
    "Creando un Spark DataFrame a partir de pandas DataFrame"
   ]
  },
  {
   "cell_type": "code",
   "execution_count": 19,
   "metadata": {},
   "outputs": [],
   "source": [
    "spark = SparkSession.builder.getOrCreate()"
   ]
  },
  {
   "cell_type": "code",
   "execution_count": 20,
   "metadata": {},
   "outputs": [],
   "source": [
    "sdf = spark.createDataFrame(pdf)"
   ]
  },
  {
   "cell_type": "code",
   "execution_count": 21,
   "metadata": {},
   "outputs": [
    {
     "name": "stdout",
     "output_type": "stream",
     "text": [
      "+-------------------+-------------------+--------------------+-------------------+\n",
      "|                  A|                  B|                   C|                  D|\n",
      "+-------------------+-------------------+--------------------+-------------------+\n",
      "| 0.8444839571317416| 0.7591890786074168|  0.8398129524586214| -1.348347437511283|\n",
      "| 2.2619029044442787| 0.8984397204187033|  3.7885296858165005| 0.7007019235969093|\n",
      "| 1.4094669573887761|-3.4102611972263484|  0.1842040749620267|0.27970838277196747|\n",
      "|  1.021139251160552|-0.9689003210570012|  1.2861605900405857| 0.6059429286649378|\n",
      "|-1.2261348804937677|-0.4227095417608676|-0.01369943940286...| 0.7716484709659582|\n",
      "|   1.12270883456703|0.46427645814661017|  1.1984514963642496|0.02668842101786151|\n",
      "+-------------------+-------------------+--------------------+-------------------+\n",
      "\n"
     ]
    }
   ],
   "source": [
    "sdf.show()"
   ]
  },
  {
   "cell_type": "markdown",
   "metadata": {},
   "source": [
    "Creando Koalas DataFrame desde Spark DataFrame.\n",
    "`to_koalas ()` se adjunta automáticamente a Spark DataFrame y está disponible como una API cuando se importa Koalas."
   ]
  },
  {
   "cell_type": "code",
   "execution_count": 22,
   "metadata": {},
   "outputs": [],
   "source": [
    "kdf = sdf.to_koalas()"
   ]
  },
  {
   "cell_type": "code",
   "execution_count": 23,
   "metadata": {},
   "outputs": [
    {
     "data": {
      "text/html": [
       "<div>\n",
       "<style scoped>\n",
       "    .dataframe tbody tr th:only-of-type {\n",
       "        vertical-align: middle;\n",
       "    }\n",
       "\n",
       "    .dataframe tbody tr th {\n",
       "        vertical-align: top;\n",
       "    }\n",
       "\n",
       "    .dataframe thead th {\n",
       "        text-align: right;\n",
       "    }\n",
       "</style>\n",
       "<table border=\"1\" class=\"dataframe\">\n",
       "  <thead>\n",
       "    <tr style=\"text-align: right;\">\n",
       "      <th></th>\n",
       "      <th>A</th>\n",
       "      <th>B</th>\n",
       "      <th>C</th>\n",
       "      <th>D</th>\n",
       "    </tr>\n",
       "  </thead>\n",
       "  <tbody>\n",
       "    <tr>\n",
       "      <th>0</th>\n",
       "      <td>0.844484</td>\n",
       "      <td>0.759189</td>\n",
       "      <td>0.839813</td>\n",
       "      <td>-1.348347</td>\n",
       "    </tr>\n",
       "    <tr>\n",
       "      <th>1</th>\n",
       "      <td>2.261903</td>\n",
       "      <td>0.898440</td>\n",
       "      <td>3.788530</td>\n",
       "      <td>0.700702</td>\n",
       "    </tr>\n",
       "    <tr>\n",
       "      <th>2</th>\n",
       "      <td>1.409467</td>\n",
       "      <td>-3.410261</td>\n",
       "      <td>0.184204</td>\n",
       "      <td>0.279708</td>\n",
       "    </tr>\n",
       "    <tr>\n",
       "      <th>3</th>\n",
       "      <td>1.021139</td>\n",
       "      <td>-0.968900</td>\n",
       "      <td>1.286161</td>\n",
       "      <td>0.605943</td>\n",
       "    </tr>\n",
       "    <tr>\n",
       "      <th>4</th>\n",
       "      <td>-1.226135</td>\n",
       "      <td>-0.422710</td>\n",
       "      <td>-0.013699</td>\n",
       "      <td>0.771648</td>\n",
       "    </tr>\n",
       "    <tr>\n",
       "      <th>5</th>\n",
       "      <td>1.122709</td>\n",
       "      <td>0.464276</td>\n",
       "      <td>1.198451</td>\n",
       "      <td>0.026688</td>\n",
       "    </tr>\n",
       "  </tbody>\n",
       "</table>\n",
       "</div>"
      ],
      "text/plain": [
       "          A         B         C         D\n",
       "0  0.844484  0.759189  0.839813 -1.348347\n",
       "1  2.261903  0.898440  3.788530  0.700702\n",
       "2  1.409467 -3.410261  0.184204  0.279708\n",
       "3  1.021139 -0.968900  1.286161  0.605943\n",
       "4 -1.226135 -0.422710 -0.013699  0.771648\n",
       "5  1.122709  0.464276  1.198451  0.026688"
      ]
     },
     "execution_count": 23,
     "metadata": {},
     "output_type": "execute_result"
    }
   ],
   "source": [
    "kdf"
   ]
  },
  {
   "cell_type": "markdown",
   "metadata": {},
   "source": [
    "Tiene [dtypes] específicos. Actualmente se admiten los tipos que son comunes a Spark y pandas."
   ]
  },
  {
   "cell_type": "code",
   "execution_count": 24,
   "metadata": {},
   "outputs": [
    {
     "data": {
      "text/plain": [
       "A    float64\n",
       "B    float64\n",
       "C    float64\n",
       "D    float64\n",
       "dtype: object"
      ]
     },
     "execution_count": 24,
     "metadata": {},
     "output_type": "execute_result"
    }
   ],
   "source": [
    "kdf.dtypes"
   ]
  },
  {
   "cell_type": "markdown",
   "metadata": {},
   "source": [
    "### 2. Manipulación de datos\n"
   ]
  },
  {
   "cell_type": "markdown",
   "metadata": {},
   "source": [
    "A diferencia de los pandas, los datos en un dataframe de datos de Spark no están _ordenados_, no tienen una noción intrínseca de índice. Cuando se le solicite el encabezado, Spark solo tomará el número solicitado de filas de una partición. **No hay que utilizar el df de Koalas para devolver filas específicas**, use `.loc` o` iloc` en su lugar."
   ]
  },
  {
   "cell_type": "code",
   "execution_count": 25,
   "metadata": {},
   "outputs": [
    {
     "data": {
      "text/html": [
       "<div>\n",
       "<style scoped>\n",
       "    .dataframe tbody tr th:only-of-type {\n",
       "        vertical-align: middle;\n",
       "    }\n",
       "\n",
       "    .dataframe tbody tr th {\n",
       "        vertical-align: top;\n",
       "    }\n",
       "\n",
       "    .dataframe thead th {\n",
       "        text-align: right;\n",
       "    }\n",
       "</style>\n",
       "<table border=\"1\" class=\"dataframe\">\n",
       "  <thead>\n",
       "    <tr style=\"text-align: right;\">\n",
       "      <th></th>\n",
       "      <th>A</th>\n",
       "      <th>B</th>\n",
       "      <th>C</th>\n",
       "      <th>D</th>\n",
       "    </tr>\n",
       "  </thead>\n",
       "  <tbody>\n",
       "    <tr>\n",
       "      <th>0</th>\n",
       "      <td>0.844484</td>\n",
       "      <td>0.759189</td>\n",
       "      <td>0.839813</td>\n",
       "      <td>-1.348347</td>\n",
       "    </tr>\n",
       "    <tr>\n",
       "      <th>1</th>\n",
       "      <td>2.261903</td>\n",
       "      <td>0.898440</td>\n",
       "      <td>3.788530</td>\n",
       "      <td>0.700702</td>\n",
       "    </tr>\n",
       "    <tr>\n",
       "      <th>2</th>\n",
       "      <td>1.409467</td>\n",
       "      <td>-3.410261</td>\n",
       "      <td>0.184204</td>\n",
       "      <td>0.279708</td>\n",
       "    </tr>\n",
       "    <tr>\n",
       "      <th>3</th>\n",
       "      <td>1.021139</td>\n",
       "      <td>-0.968900</td>\n",
       "      <td>1.286161</td>\n",
       "      <td>0.605943</td>\n",
       "    </tr>\n",
       "    <tr>\n",
       "      <th>4</th>\n",
       "      <td>-1.226135</td>\n",
       "      <td>-0.422710</td>\n",
       "      <td>-0.013699</td>\n",
       "      <td>0.771648</td>\n",
       "    </tr>\n",
       "  </tbody>\n",
       "</table>\n",
       "</div>"
      ],
      "text/plain": [
       "          A         B         C         D\n",
       "0  0.844484  0.759189  0.839813 -1.348347\n",
       "1  2.261903  0.898440  3.788530  0.700702\n",
       "2  1.409467 -3.410261  0.184204  0.279708\n",
       "3  1.021139 -0.968900  1.286161  0.605943\n",
       "4 -1.226135 -0.422710 -0.013699  0.771648"
      ]
     },
     "execution_count": 25,
     "metadata": {},
     "output_type": "execute_result"
    }
   ],
   "source": [
    "kdf.head()"
   ]
  },
  {
   "cell_type": "markdown",
   "metadata": {},
   "source": [
    "Muestre el índice, las columnas y los datos numéricos subyacentes.\n",
    "\n",
    "También puede recuperar el índice; la columna de índice se puede atribuir a un DataFrame, ver más adelante"
   ]
  },
  {
   "cell_type": "code",
   "execution_count": 26,
   "metadata": {},
   "outputs": [
    {
     "data": {
      "text/plain": [
       "Int64Index([0, 1, 2, 3, 4, 5], dtype='int64')"
      ]
     },
     "execution_count": 26,
     "metadata": {},
     "output_type": "execute_result"
    }
   ],
   "source": [
    "kdf.index"
   ]
  },
  {
   "cell_type": "code",
   "execution_count": 27,
   "metadata": {},
   "outputs": [
    {
     "data": {
      "text/plain": [
       "Index(['A', 'B', 'C', 'D'], dtype='object')"
      ]
     },
     "execution_count": 27,
     "metadata": {},
     "output_type": "execute_result"
    }
   ],
   "source": [
    "kdf.columns"
   ]
  },
  {
   "cell_type": "code",
   "execution_count": 28,
   "metadata": {},
   "outputs": [
    {
     "data": {
      "text/plain": [
       "array([[ 0.84448396,  0.75918908,  0.83981295, -1.34834744],\n",
       "       [ 2.2619029 ,  0.89843972,  3.78852969,  0.70070192],\n",
       "       [ 1.40946696, -3.4102612 ,  0.18420407,  0.27970838],\n",
       "       [ 1.02113925, -0.96890032,  1.28616059,  0.60594293],\n",
       "       [-1.22613488, -0.42270954, -0.01369944,  0.77164847],\n",
       "       [ 1.12270883,  0.46427646,  1.1984515 ,  0.02668842]])"
      ]
     },
     "execution_count": 28,
     "metadata": {},
     "output_type": "execute_result"
    }
   ],
   "source": [
    "kdf.to_numpy()"
   ]
  },
  {
   "cell_type": "markdown",
   "metadata": {},
   "source": [
    "**Describe** muestra un resumen estadístico rápido de sus datos"
   ]
  },
  {
   "cell_type": "code",
   "execution_count": 29,
   "metadata": {},
   "outputs": [
    {
     "data": {
      "text/html": [
       "<div>\n",
       "<style scoped>\n",
       "    .dataframe tbody tr th:only-of-type {\n",
       "        vertical-align: middle;\n",
       "    }\n",
       "\n",
       "    .dataframe tbody tr th {\n",
       "        vertical-align: top;\n",
       "    }\n",
       "\n",
       "    .dataframe thead th {\n",
       "        text-align: right;\n",
       "    }\n",
       "</style>\n",
       "<table border=\"1\" class=\"dataframe\">\n",
       "  <thead>\n",
       "    <tr style=\"text-align: right;\">\n",
       "      <th></th>\n",
       "      <th>A</th>\n",
       "      <th>B</th>\n",
       "      <th>C</th>\n",
       "      <th>D</th>\n",
       "    </tr>\n",
       "  </thead>\n",
       "  <tbody>\n",
       "    <tr>\n",
       "      <th>count</th>\n",
       "      <td>6.000000</td>\n",
       "      <td>6.000000</td>\n",
       "      <td>6.000000</td>\n",
       "      <td>6.000000</td>\n",
       "    </tr>\n",
       "    <tr>\n",
       "      <th>mean</th>\n",
       "      <td>0.905595</td>\n",
       "      <td>-0.446661</td>\n",
       "      <td>1.213910</td>\n",
       "      <td>0.172724</td>\n",
       "    </tr>\n",
       "    <tr>\n",
       "      <th>std</th>\n",
       "      <td>1.157752</td>\n",
       "      <td>1.621691</td>\n",
       "      <td>1.366850</td>\n",
       "      <td>0.796440</td>\n",
       "    </tr>\n",
       "    <tr>\n",
       "      <th>min</th>\n",
       "      <td>-1.226135</td>\n",
       "      <td>-3.410261</td>\n",
       "      <td>-0.013699</td>\n",
       "      <td>-1.348347</td>\n",
       "    </tr>\n",
       "    <tr>\n",
       "      <th>25%</th>\n",
       "      <td>0.844484</td>\n",
       "      <td>-0.968900</td>\n",
       "      <td>0.184204</td>\n",
       "      <td>0.026688</td>\n",
       "    </tr>\n",
       "    <tr>\n",
       "      <th>50%</th>\n",
       "      <td>1.021139</td>\n",
       "      <td>-0.422710</td>\n",
       "      <td>0.839813</td>\n",
       "      <td>0.279708</td>\n",
       "    </tr>\n",
       "    <tr>\n",
       "      <th>75%</th>\n",
       "      <td>1.409467</td>\n",
       "      <td>0.759189</td>\n",
       "      <td>1.286161</td>\n",
       "      <td>0.700702</td>\n",
       "    </tr>\n",
       "    <tr>\n",
       "      <th>max</th>\n",
       "      <td>2.261903</td>\n",
       "      <td>0.898440</td>\n",
       "      <td>3.788530</td>\n",
       "      <td>0.771648</td>\n",
       "    </tr>\n",
       "  </tbody>\n",
       "</table>\n",
       "</div>"
      ],
      "text/plain": [
       "              A         B         C         D\n",
       "count  6.000000  6.000000  6.000000  6.000000\n",
       "mean   0.905595 -0.446661  1.213910  0.172724\n",
       "std    1.157752  1.621691  1.366850  0.796440\n",
       "min   -1.226135 -3.410261 -0.013699 -1.348347\n",
       "25%    0.844484 -0.968900  0.184204  0.026688\n",
       "50%    1.021139 -0.422710  0.839813  0.279708\n",
       "75%    1.409467  0.759189  1.286161  0.700702\n",
       "max    2.261903  0.898440  3.788530  0.771648"
      ]
     },
     "execution_count": 29,
     "metadata": {},
     "output_type": "execute_result"
    }
   ],
   "source": [
    "kdf.describe()"
   ]
  },
  {
   "cell_type": "markdown",
   "metadata": {},
   "source": [
    "Transposición de sus datos"
   ]
  },
  {
   "cell_type": "code",
   "execution_count": 30,
   "metadata": {},
   "outputs": [
    {
     "data": {
      "text/html": [
       "<div>\n",
       "<style scoped>\n",
       "    .dataframe tbody tr th:only-of-type {\n",
       "        vertical-align: middle;\n",
       "    }\n",
       "\n",
       "    .dataframe tbody tr th {\n",
       "        vertical-align: top;\n",
       "    }\n",
       "\n",
       "    .dataframe thead th {\n",
       "        text-align: right;\n",
       "    }\n",
       "</style>\n",
       "<table border=\"1\" class=\"dataframe\">\n",
       "  <thead>\n",
       "    <tr style=\"text-align: right;\">\n",
       "      <th></th>\n",
       "      <th>0</th>\n",
       "      <th>1</th>\n",
       "      <th>2</th>\n",
       "      <th>3</th>\n",
       "      <th>4</th>\n",
       "      <th>5</th>\n",
       "    </tr>\n",
       "  </thead>\n",
       "  <tbody>\n",
       "    <tr>\n",
       "      <th>A</th>\n",
       "      <td>0.844484</td>\n",
       "      <td>2.261903</td>\n",
       "      <td>1.409467</td>\n",
       "      <td>1.021139</td>\n",
       "      <td>-1.226135</td>\n",
       "      <td>1.122709</td>\n",
       "    </tr>\n",
       "    <tr>\n",
       "      <th>B</th>\n",
       "      <td>0.759189</td>\n",
       "      <td>0.898440</td>\n",
       "      <td>-3.410261</td>\n",
       "      <td>-0.968900</td>\n",
       "      <td>-0.422710</td>\n",
       "      <td>0.464276</td>\n",
       "    </tr>\n",
       "    <tr>\n",
       "      <th>C</th>\n",
       "      <td>0.839813</td>\n",
       "      <td>3.788530</td>\n",
       "      <td>0.184204</td>\n",
       "      <td>1.286161</td>\n",
       "      <td>-0.013699</td>\n",
       "      <td>1.198451</td>\n",
       "    </tr>\n",
       "    <tr>\n",
       "      <th>D</th>\n",
       "      <td>-1.348347</td>\n",
       "      <td>0.700702</td>\n",
       "      <td>0.279708</td>\n",
       "      <td>0.605943</td>\n",
       "      <td>0.771648</td>\n",
       "      <td>0.026688</td>\n",
       "    </tr>\n",
       "  </tbody>\n",
       "</table>\n",
       "</div>"
      ],
      "text/plain": [
       "          0         1         2         3         4         5\n",
       "A  0.844484  2.261903  1.409467  1.021139 -1.226135  1.122709\n",
       "B  0.759189  0.898440 -3.410261 -0.968900 -0.422710  0.464276\n",
       "C  0.839813  3.788530  0.184204  1.286161 -0.013699  1.198451\n",
       "D -1.348347  0.700702  0.279708  0.605943  0.771648  0.026688"
      ]
     },
     "execution_count": 30,
     "metadata": {},
     "output_type": "execute_result"
    }
   ],
   "source": [
    "kdf.T"
   ]
  },
  {
   "cell_type": "markdown",
   "metadata": {},
   "source": [
    "Ordenando por su índice"
   ]
  },
  {
   "cell_type": "code",
   "execution_count": 31,
   "metadata": {},
   "outputs": [
    {
     "data": {
      "text/html": [
       "<div>\n",
       "<style scoped>\n",
       "    .dataframe tbody tr th:only-of-type {\n",
       "        vertical-align: middle;\n",
       "    }\n",
       "\n",
       "    .dataframe tbody tr th {\n",
       "        vertical-align: top;\n",
       "    }\n",
       "\n",
       "    .dataframe thead th {\n",
       "        text-align: right;\n",
       "    }\n",
       "</style>\n",
       "<table border=\"1\" class=\"dataframe\">\n",
       "  <thead>\n",
       "    <tr style=\"text-align: right;\">\n",
       "      <th></th>\n",
       "      <th>A</th>\n",
       "      <th>B</th>\n",
       "      <th>C</th>\n",
       "      <th>D</th>\n",
       "    </tr>\n",
       "  </thead>\n",
       "  <tbody>\n",
       "    <tr>\n",
       "      <th>5</th>\n",
       "      <td>1.122709</td>\n",
       "      <td>0.464276</td>\n",
       "      <td>1.198451</td>\n",
       "      <td>0.026688</td>\n",
       "    </tr>\n",
       "    <tr>\n",
       "      <th>4</th>\n",
       "      <td>-1.226135</td>\n",
       "      <td>-0.422710</td>\n",
       "      <td>-0.013699</td>\n",
       "      <td>0.771648</td>\n",
       "    </tr>\n",
       "    <tr>\n",
       "      <th>3</th>\n",
       "      <td>1.021139</td>\n",
       "      <td>-0.968900</td>\n",
       "      <td>1.286161</td>\n",
       "      <td>0.605943</td>\n",
       "    </tr>\n",
       "    <tr>\n",
       "      <th>2</th>\n",
       "      <td>1.409467</td>\n",
       "      <td>-3.410261</td>\n",
       "      <td>0.184204</td>\n",
       "      <td>0.279708</td>\n",
       "    </tr>\n",
       "    <tr>\n",
       "      <th>1</th>\n",
       "      <td>2.261903</td>\n",
       "      <td>0.898440</td>\n",
       "      <td>3.788530</td>\n",
       "      <td>0.700702</td>\n",
       "    </tr>\n",
       "    <tr>\n",
       "      <th>0</th>\n",
       "      <td>0.844484</td>\n",
       "      <td>0.759189</td>\n",
       "      <td>0.839813</td>\n",
       "      <td>-1.348347</td>\n",
       "    </tr>\n",
       "  </tbody>\n",
       "</table>\n",
       "</div>"
      ],
      "text/plain": [
       "          A         B         C         D\n",
       "5  1.122709  0.464276  1.198451  0.026688\n",
       "4 -1.226135 -0.422710 -0.013699  0.771648\n",
       "3  1.021139 -0.968900  1.286161  0.605943\n",
       "2  1.409467 -3.410261  0.184204  0.279708\n",
       "1  2.261903  0.898440  3.788530  0.700702\n",
       "0  0.844484  0.759189  0.839813 -1.348347"
      ]
     },
     "execution_count": 31,
     "metadata": {},
     "output_type": "execute_result"
    }
   ],
   "source": [
    "kdf.sort_index(ascending=False)"
   ]
  },
  {
   "cell_type": "markdown",
   "metadata": {},
   "source": [
    "Ordenar por valor"
   ]
  },
  {
   "cell_type": "code",
   "execution_count": 32,
   "metadata": {},
   "outputs": [
    {
     "data": {
      "text/html": [
       "<div>\n",
       "<style scoped>\n",
       "    .dataframe tbody tr th:only-of-type {\n",
       "        vertical-align: middle;\n",
       "    }\n",
       "\n",
       "    .dataframe tbody tr th {\n",
       "        vertical-align: top;\n",
       "    }\n",
       "\n",
       "    .dataframe thead th {\n",
       "        text-align: right;\n",
       "    }\n",
       "</style>\n",
       "<table border=\"1\" class=\"dataframe\">\n",
       "  <thead>\n",
       "    <tr style=\"text-align: right;\">\n",
       "      <th></th>\n",
       "      <th>A</th>\n",
       "      <th>B</th>\n",
       "      <th>C</th>\n",
       "      <th>D</th>\n",
       "    </tr>\n",
       "  </thead>\n",
       "  <tbody>\n",
       "    <tr>\n",
       "      <th>2</th>\n",
       "      <td>1.409467</td>\n",
       "      <td>-3.410261</td>\n",
       "      <td>0.184204</td>\n",
       "      <td>0.279708</td>\n",
       "    </tr>\n",
       "    <tr>\n",
       "      <th>3</th>\n",
       "      <td>1.021139</td>\n",
       "      <td>-0.968900</td>\n",
       "      <td>1.286161</td>\n",
       "      <td>0.605943</td>\n",
       "    </tr>\n",
       "    <tr>\n",
       "      <th>4</th>\n",
       "      <td>-1.226135</td>\n",
       "      <td>-0.422710</td>\n",
       "      <td>-0.013699</td>\n",
       "      <td>0.771648</td>\n",
       "    </tr>\n",
       "    <tr>\n",
       "      <th>5</th>\n",
       "      <td>1.122709</td>\n",
       "      <td>0.464276</td>\n",
       "      <td>1.198451</td>\n",
       "      <td>0.026688</td>\n",
       "    </tr>\n",
       "    <tr>\n",
       "      <th>0</th>\n",
       "      <td>0.844484</td>\n",
       "      <td>0.759189</td>\n",
       "      <td>0.839813</td>\n",
       "      <td>-1.348347</td>\n",
       "    </tr>\n",
       "    <tr>\n",
       "      <th>1</th>\n",
       "      <td>2.261903</td>\n",
       "      <td>0.898440</td>\n",
       "      <td>3.788530</td>\n",
       "      <td>0.700702</td>\n",
       "    </tr>\n",
       "  </tbody>\n",
       "</table>\n",
       "</div>"
      ],
      "text/plain": [
       "          A         B         C         D\n",
       "2  1.409467 -3.410261  0.184204  0.279708\n",
       "3  1.021139 -0.968900  1.286161  0.605943\n",
       "4 -1.226135 -0.422710 -0.013699  0.771648\n",
       "5  1.122709  0.464276  1.198451  0.026688\n",
       "0  0.844484  0.759189  0.839813 -1.348347\n",
       "1  2.261903  0.898440  3.788530  0.700702"
      ]
     },
     "execution_count": 32,
     "metadata": {},
     "output_type": "execute_result"
    }
   ],
   "source": [
    "kdf.sort_values(by='B')"
   ]
  },
  {
   "cell_type": "markdown",
   "metadata": {},
   "source": [
    "### 3. Datos faltantes\n",
    "Koalas utiliza principalmente el valor `np.nan` para representar los datos faltantes. Por defecto, no se incluye en los cálculos.\n"
   ]
  },
  {
   "cell_type": "code",
   "execution_count": 33,
   "metadata": {},
   "outputs": [],
   "source": [
    "pdf1 = pdf.reindex(index=dates[0:4], columns=list(pdf.columns) + ['E'])"
   ]
  },
  {
   "cell_type": "code",
   "execution_count": 34,
   "metadata": {},
   "outputs": [],
   "source": [
    "pdf1.loc[dates[0]:dates[1], 'E'] = 1"
   ]
  },
  {
   "cell_type": "code",
   "execution_count": 35,
   "metadata": {},
   "outputs": [],
   "source": [
    "kdf1 = ks.from_pandas(pdf1)"
   ]
  },
  {
   "cell_type": "code",
   "execution_count": 36,
   "metadata": {},
   "outputs": [
    {
     "data": {
      "text/html": [
       "<div>\n",
       "<style scoped>\n",
       "    .dataframe tbody tr th:only-of-type {\n",
       "        vertical-align: middle;\n",
       "    }\n",
       "\n",
       "    .dataframe tbody tr th {\n",
       "        vertical-align: top;\n",
       "    }\n",
       "\n",
       "    .dataframe thead th {\n",
       "        text-align: right;\n",
       "    }\n",
       "</style>\n",
       "<table border=\"1\" class=\"dataframe\">\n",
       "  <thead>\n",
       "    <tr style=\"text-align: right;\">\n",
       "      <th></th>\n",
       "      <th>A</th>\n",
       "      <th>B</th>\n",
       "      <th>C</th>\n",
       "      <th>D</th>\n",
       "      <th>E</th>\n",
       "    </tr>\n",
       "  </thead>\n",
       "  <tbody>\n",
       "    <tr>\n",
       "      <th>2013-01-01</th>\n",
       "      <td>0.844484</td>\n",
       "      <td>0.759189</td>\n",
       "      <td>0.839813</td>\n",
       "      <td>-1.348347</td>\n",
       "      <td>1.0</td>\n",
       "    </tr>\n",
       "    <tr>\n",
       "      <th>2013-01-02</th>\n",
       "      <td>2.261903</td>\n",
       "      <td>0.898440</td>\n",
       "      <td>3.788530</td>\n",
       "      <td>0.700702</td>\n",
       "      <td>1.0</td>\n",
       "    </tr>\n",
       "    <tr>\n",
       "      <th>2013-01-03</th>\n",
       "      <td>1.409467</td>\n",
       "      <td>-3.410261</td>\n",
       "      <td>0.184204</td>\n",
       "      <td>0.279708</td>\n",
       "      <td>NaN</td>\n",
       "    </tr>\n",
       "    <tr>\n",
       "      <th>2013-01-04</th>\n",
       "      <td>1.021139</td>\n",
       "      <td>-0.968900</td>\n",
       "      <td>1.286161</td>\n",
       "      <td>0.605943</td>\n",
       "      <td>NaN</td>\n",
       "    </tr>\n",
       "  </tbody>\n",
       "</table>\n",
       "</div>"
      ],
      "text/plain": [
       "                   A         B         C         D    E\n",
       "2013-01-01  0.844484  0.759189  0.839813 -1.348347  1.0\n",
       "2013-01-02  2.261903  0.898440  3.788530  0.700702  1.0\n",
       "2013-01-03  1.409467 -3.410261  0.184204  0.279708  NaN\n",
       "2013-01-04  1.021139 -0.968900  1.286161  0.605943  NaN"
      ]
     },
     "execution_count": 36,
     "metadata": {},
     "output_type": "execute_result"
    }
   ],
   "source": [
    "kdf1"
   ]
  },
  {
   "cell_type": "markdown",
   "metadata": {},
   "source": [
    "Para eliminar las filas que tienen datos faltantes."
   ]
  },
  {
   "cell_type": "code",
   "execution_count": 37,
   "metadata": {},
   "outputs": [
    {
     "data": {
      "text/html": [
       "<div>\n",
       "<style scoped>\n",
       "    .dataframe tbody tr th:only-of-type {\n",
       "        vertical-align: middle;\n",
       "    }\n",
       "\n",
       "    .dataframe tbody tr th {\n",
       "        vertical-align: top;\n",
       "    }\n",
       "\n",
       "    .dataframe thead th {\n",
       "        text-align: right;\n",
       "    }\n",
       "</style>\n",
       "<table border=\"1\" class=\"dataframe\">\n",
       "  <thead>\n",
       "    <tr style=\"text-align: right;\">\n",
       "      <th></th>\n",
       "      <th>A</th>\n",
       "      <th>B</th>\n",
       "      <th>C</th>\n",
       "      <th>D</th>\n",
       "      <th>E</th>\n",
       "    </tr>\n",
       "  </thead>\n",
       "  <tbody>\n",
       "    <tr>\n",
       "      <th>2013-01-01</th>\n",
       "      <td>0.844484</td>\n",
       "      <td>0.759189</td>\n",
       "      <td>0.839813</td>\n",
       "      <td>-1.348347</td>\n",
       "      <td>1.0</td>\n",
       "    </tr>\n",
       "    <tr>\n",
       "      <th>2013-01-02</th>\n",
       "      <td>2.261903</td>\n",
       "      <td>0.898440</td>\n",
       "      <td>3.788530</td>\n",
       "      <td>0.700702</td>\n",
       "      <td>1.0</td>\n",
       "    </tr>\n",
       "  </tbody>\n",
       "</table>\n",
       "</div>"
      ],
      "text/plain": [
       "                   A         B         C         D    E\n",
       "2013-01-01  0.844484  0.759189  0.839813 -1.348347  1.0\n",
       "2013-01-02  2.261903  0.898440  3.788530  0.700702  1.0"
      ]
     },
     "execution_count": 37,
     "metadata": {},
     "output_type": "execute_result"
    }
   ],
   "source": [
    "kdf1.dropna(how='any')"
   ]
  },
  {
   "cell_type": "markdown",
   "metadata": {},
   "source": [
    "Llenando los datos faltantes."
   ]
  },
  {
   "cell_type": "code",
   "execution_count": 38,
   "metadata": {},
   "outputs": [
    {
     "data": {
      "text/html": [
       "<div>\n",
       "<style scoped>\n",
       "    .dataframe tbody tr th:only-of-type {\n",
       "        vertical-align: middle;\n",
       "    }\n",
       "\n",
       "    .dataframe tbody tr th {\n",
       "        vertical-align: top;\n",
       "    }\n",
       "\n",
       "    .dataframe thead th {\n",
       "        text-align: right;\n",
       "    }\n",
       "</style>\n",
       "<table border=\"1\" class=\"dataframe\">\n",
       "  <thead>\n",
       "    <tr style=\"text-align: right;\">\n",
       "      <th></th>\n",
       "      <th>A</th>\n",
       "      <th>B</th>\n",
       "      <th>C</th>\n",
       "      <th>D</th>\n",
       "      <th>E</th>\n",
       "    </tr>\n",
       "  </thead>\n",
       "  <tbody>\n",
       "    <tr>\n",
       "      <th>2013-01-01</th>\n",
       "      <td>0.844484</td>\n",
       "      <td>0.759189</td>\n",
       "      <td>0.839813</td>\n",
       "      <td>-1.348347</td>\n",
       "      <td>1.0</td>\n",
       "    </tr>\n",
       "    <tr>\n",
       "      <th>2013-01-02</th>\n",
       "      <td>2.261903</td>\n",
       "      <td>0.898440</td>\n",
       "      <td>3.788530</td>\n",
       "      <td>0.700702</td>\n",
       "      <td>1.0</td>\n",
       "    </tr>\n",
       "    <tr>\n",
       "      <th>2013-01-03</th>\n",
       "      <td>1.409467</td>\n",
       "      <td>-3.410261</td>\n",
       "      <td>0.184204</td>\n",
       "      <td>0.279708</td>\n",
       "      <td>5.0</td>\n",
       "    </tr>\n",
       "    <tr>\n",
       "      <th>2013-01-04</th>\n",
       "      <td>1.021139</td>\n",
       "      <td>-0.968900</td>\n",
       "      <td>1.286161</td>\n",
       "      <td>0.605943</td>\n",
       "      <td>5.0</td>\n",
       "    </tr>\n",
       "  </tbody>\n",
       "</table>\n",
       "</div>"
      ],
      "text/plain": [
       "                   A         B         C         D    E\n",
       "2013-01-01  0.844484  0.759189  0.839813 -1.348347  1.0\n",
       "2013-01-02  2.261903  0.898440  3.788530  0.700702  1.0\n",
       "2013-01-03  1.409467 -3.410261  0.184204  0.279708  5.0\n",
       "2013-01-04  1.021139 -0.968900  1.286161  0.605943  5.0"
      ]
     },
     "execution_count": 38,
     "metadata": {},
     "output_type": "execute_result"
    }
   ],
   "source": [
    "kdf1.fillna(value=5)"
   ]
  },
  {
   "cell_type": "markdown",
   "metadata": {},
   "source": [
    "### 4. Operaciones"
   ]
  },
  {
   "cell_type": "markdown",
   "metadata": {},
   "source": [
    "#### Estadísticas\n",
    "Las operaciones en general excluyen los datos faltantes.\n",
    "\n",
    "Realización de una estadística descriptiva:"
   ]
  },
  {
   "cell_type": "code",
   "execution_count": 39,
   "metadata": {},
   "outputs": [
    {
     "data": {
      "text/plain": [
       "A    0.905595\n",
       "B   -0.446661\n",
       "C    1.213910\n",
       "D    0.172724\n",
       "dtype: float64"
      ]
     },
     "execution_count": 39,
     "metadata": {},
     "output_type": "execute_result"
    }
   ],
   "source": [
    "kdf.mean()"
   ]
  },
  {
   "cell_type": "markdown",
   "metadata": {},
   "source": [
    "#### Configuraciones de Spark\n",
    "\n",
    "Varias configuraciones en PySpark se pueden aplicar internamente en Koalas.\n",
    "Por ejemplo, puede habilitar la optimización de Arrow para acelerar enormemente la conversión de pandas internos."
   ]
  },
  {
   "cell_type": "code",
   "execution_count": 40,
   "metadata": {},
   "outputs": [],
   "source": [
    "prev = spark.conf.get(\"spark.sql.execution.arrow.enabled\")  # Keep its default value.\n",
    "ks.set_option(\"compute.default_index_type\", \"distributed\")  # Use default index prevent overhead.\n",
    "\n",
    "import warnings\n",
    "warnings.filterwarnings(\"ignore\")  # Ignore warnings coming from Arrow optimizations."
   ]
  },
  {
   "cell_type": "code",
   "execution_count": 41,
   "metadata": {},
   "outputs": [
    {
     "name": "stdout",
     "output_type": "stream",
     "text": [
      "160 ms ± 21.4 ms per loop (mean ± std. dev. of 7 runs, 1 loop each)\n"
     ]
    }
   ],
   "source": [
    "spark.conf.set(\"spark.sql.execution.arrow.enabled\", True)\n",
    "%timeit ks.range(300000).to_pandas()"
   ]
  },
  {
   "cell_type": "code",
   "execution_count": 42,
   "metadata": {},
   "outputs": [
    {
     "name": "stdout",
     "output_type": "stream",
     "text": [
      "963 ms ± 57.7 ms per loop (mean ± std. dev. of 7 runs, 1 loop each)\n"
     ]
    }
   ],
   "source": [
    "spark.conf.set(\"spark.sql.execution.arrow.enabled\", False)\n",
    "%timeit ks.range(300000).to_pandas()"
   ]
  },
  {
   "cell_type": "code",
   "execution_count": 43,
   "metadata": {},
   "outputs": [],
   "source": [
    "ks.reset_option(\"compute.default_index_type\")\n",
    "spark.conf.set(\"spark.sql.execution.arrow.enabled\", prev)  # Set its default value back."
   ]
  },
  {
   "cell_type": "markdown",
   "metadata": {},
   "source": [
    "#### Agrupación\n",
    "Por \"agrupar por\" nos referimos a un proceso que involucra uno o más de los siguientes pasos:\n",
    "\n",
    "- Dividir los datos en grupos según algunos criterios.\n",
    "- Aplicar una función a cada grupo de forma independiente\n",
    "- Combinar los resultados en una estructura de datos"
   ]
  },
  {
   "cell_type": "code",
   "execution_count": 44,
   "metadata": {},
   "outputs": [],
   "source": [
    "kdf = ks.DataFrame({'A': ['foo', 'bar', 'foo', 'bar',\n",
    "                          'foo', 'bar', 'foo', 'foo'],\n",
    "                    'B': ['one', 'one', 'two', 'three',\n",
    "                          'two', 'two', 'one', 'three'],\n",
    "                    'C': np.random.randn(8),\n",
    "                    'D': np.random.randn(8)})"
   ]
  },
  {
   "cell_type": "code",
   "execution_count": 45,
   "metadata": {},
   "outputs": [
    {
     "data": {
      "text/html": [
       "<div>\n",
       "<style scoped>\n",
       "    .dataframe tbody tr th:only-of-type {\n",
       "        vertical-align: middle;\n",
       "    }\n",
       "\n",
       "    .dataframe tbody tr th {\n",
       "        vertical-align: top;\n",
       "    }\n",
       "\n",
       "    .dataframe thead th {\n",
       "        text-align: right;\n",
       "    }\n",
       "</style>\n",
       "<table border=\"1\" class=\"dataframe\">\n",
       "  <thead>\n",
       "    <tr style=\"text-align: right;\">\n",
       "      <th></th>\n",
       "      <th>A</th>\n",
       "      <th>B</th>\n",
       "      <th>C</th>\n",
       "      <th>D</th>\n",
       "    </tr>\n",
       "  </thead>\n",
       "  <tbody>\n",
       "    <tr>\n",
       "      <th>0</th>\n",
       "      <td>foo</td>\n",
       "      <td>one</td>\n",
       "      <td>0.005920</td>\n",
       "      <td>-1.442287</td>\n",
       "    </tr>\n",
       "    <tr>\n",
       "      <th>1</th>\n",
       "      <td>bar</td>\n",
       "      <td>one</td>\n",
       "      <td>0.172124</td>\n",
       "      <td>1.320629</td>\n",
       "    </tr>\n",
       "    <tr>\n",
       "      <th>2</th>\n",
       "      <td>foo</td>\n",
       "      <td>two</td>\n",
       "      <td>0.499744</td>\n",
       "      <td>-1.011388</td>\n",
       "    </tr>\n",
       "    <tr>\n",
       "      <th>3</th>\n",
       "      <td>bar</td>\n",
       "      <td>three</td>\n",
       "      <td>-1.064531</td>\n",
       "      <td>-1.079389</td>\n",
       "    </tr>\n",
       "    <tr>\n",
       "      <th>4</th>\n",
       "      <td>foo</td>\n",
       "      <td>two</td>\n",
       "      <td>1.310343</td>\n",
       "      <td>-1.231898</td>\n",
       "    </tr>\n",
       "    <tr>\n",
       "      <th>5</th>\n",
       "      <td>bar</td>\n",
       "      <td>two</td>\n",
       "      <td>1.535163</td>\n",
       "      <td>1.041165</td>\n",
       "    </tr>\n",
       "    <tr>\n",
       "      <th>6</th>\n",
       "      <td>foo</td>\n",
       "      <td>one</td>\n",
       "      <td>-0.679032</td>\n",
       "      <td>-0.436069</td>\n",
       "    </tr>\n",
       "    <tr>\n",
       "      <th>7</th>\n",
       "      <td>foo</td>\n",
       "      <td>three</td>\n",
       "      <td>0.407587</td>\n",
       "      <td>-0.486574</td>\n",
       "    </tr>\n",
       "  </tbody>\n",
       "</table>\n",
       "</div>"
      ],
      "text/plain": [
       "     A      B         C         D\n",
       "0  foo    one  0.005920 -1.442287\n",
       "1  bar    one  0.172124  1.320629\n",
       "2  foo    two  0.499744 -1.011388\n",
       "3  bar  three -1.064531 -1.079389\n",
       "4  foo    two  1.310343 -1.231898\n",
       "5  bar    two  1.535163  1.041165\n",
       "6  foo    one -0.679032 -0.436069\n",
       "7  foo  three  0.407587 -0.486574"
      ]
     },
     "execution_count": 45,
     "metadata": {},
     "output_type": "execute_result"
    }
   ],
   "source": [
    "kdf"
   ]
  },
  {
   "cell_type": "markdown",
   "metadata": {},
   "source": [
    "Agrupar y luego aplicar el **sum** a los grupos resultantes."
   ]
  },
  {
   "cell_type": "code",
   "execution_count": 46,
   "metadata": {},
   "outputs": [
    {
     "data": {
      "text/html": [
       "<div>\n",
       "<style scoped>\n",
       "    .dataframe tbody tr th:only-of-type {\n",
       "        vertical-align: middle;\n",
       "    }\n",
       "\n",
       "    .dataframe tbody tr th {\n",
       "        vertical-align: top;\n",
       "    }\n",
       "\n",
       "    .dataframe thead th {\n",
       "        text-align: right;\n",
       "    }\n",
       "</style>\n",
       "<table border=\"1\" class=\"dataframe\">\n",
       "  <thead>\n",
       "    <tr style=\"text-align: right;\">\n",
       "      <th></th>\n",
       "      <th>C</th>\n",
       "      <th>D</th>\n",
       "    </tr>\n",
       "    <tr>\n",
       "      <th>A</th>\n",
       "      <th></th>\n",
       "      <th></th>\n",
       "    </tr>\n",
       "  </thead>\n",
       "  <tbody>\n",
       "    <tr>\n",
       "      <th>bar</th>\n",
       "      <td>0.642756</td>\n",
       "      <td>1.282406</td>\n",
       "    </tr>\n",
       "    <tr>\n",
       "      <th>foo</th>\n",
       "      <td>1.544563</td>\n",
       "      <td>-4.608215</td>\n",
       "    </tr>\n",
       "  </tbody>\n",
       "</table>\n",
       "</div>"
      ],
      "text/plain": [
       "            C         D\n",
       "A                      \n",
       "bar  0.642756  1.282406\n",
       "foo  1.544563 -4.608215"
      ]
     },
     "execution_count": 46,
     "metadata": {},
     "output_type": "execute_result"
    }
   ],
   "source": [
    "kdf.groupby('A').sum()"
   ]
  },
  {
   "cell_type": "code",
   "execution_count": 47,
   "metadata": {},
   "outputs": [
    {
     "data": {
      "text/html": [
       "<div>\n",
       "<style scoped>\n",
       "    .dataframe tbody tr th:only-of-type {\n",
       "        vertical-align: middle;\n",
       "    }\n",
       "\n",
       "    .dataframe tbody tr th {\n",
       "        vertical-align: top;\n",
       "    }\n",
       "\n",
       "    .dataframe thead th {\n",
       "        text-align: right;\n",
       "    }\n",
       "</style>\n",
       "<table border=\"1\" class=\"dataframe\">\n",
       "  <thead>\n",
       "    <tr style=\"text-align: right;\">\n",
       "      <th></th>\n",
       "      <th></th>\n",
       "      <th>C</th>\n",
       "      <th>D</th>\n",
       "    </tr>\n",
       "    <tr>\n",
       "      <th>A</th>\n",
       "      <th>B</th>\n",
       "      <th></th>\n",
       "      <th></th>\n",
       "    </tr>\n",
       "  </thead>\n",
       "  <tbody>\n",
       "    <tr>\n",
       "      <th rowspan=\"2\" valign=\"top\">foo</th>\n",
       "      <th>one</th>\n",
       "      <td>-0.673112</td>\n",
       "      <td>-1.878356</td>\n",
       "    </tr>\n",
       "    <tr>\n",
       "      <th>two</th>\n",
       "      <td>1.810087</td>\n",
       "      <td>-2.243286</td>\n",
       "    </tr>\n",
       "    <tr>\n",
       "      <th>bar</th>\n",
       "      <th>three</th>\n",
       "      <td>-1.064531</td>\n",
       "      <td>-1.079389</td>\n",
       "    </tr>\n",
       "    <tr>\n",
       "      <th>foo</th>\n",
       "      <th>three</th>\n",
       "      <td>0.407587</td>\n",
       "      <td>-0.486574</td>\n",
       "    </tr>\n",
       "    <tr>\n",
       "      <th rowspan=\"2\" valign=\"top\">bar</th>\n",
       "      <th>two</th>\n",
       "      <td>1.535163</td>\n",
       "      <td>1.041165</td>\n",
       "    </tr>\n",
       "    <tr>\n",
       "      <th>one</th>\n",
       "      <td>0.172124</td>\n",
       "      <td>1.320629</td>\n",
       "    </tr>\n",
       "  </tbody>\n",
       "</table>\n",
       "</div>"
      ],
      "text/plain": [
       "                  C         D\n",
       "A   B                        \n",
       "foo one   -0.673112 -1.878356\n",
       "    two    1.810087 -2.243286\n",
       "bar three -1.064531 -1.079389\n",
       "foo three  0.407587 -0.486574\n",
       "bar two    1.535163  1.041165\n",
       "    one    0.172124  1.320629"
      ]
     },
     "execution_count": 47,
     "metadata": {},
     "output_type": "execute_result"
    }
   ],
   "source": [
    "kdf.groupby(['A', 'B']).sum()"
   ]
  },
  {
   "cell_type": "markdown",
   "metadata": {},
   "source": [
    "### 5. Visualización de datos: Generar gráficos\n"
   ]
  },
  {
   "cell_type": "code",
   "execution_count": 48,
   "metadata": {},
   "outputs": [],
   "source": [
    "pser = pd.Series(np.random.randn(1000),\n",
    "                 index=pd.date_range('1/1/2000', periods=1000))"
   ]
  },
  {
   "cell_type": "code",
   "execution_count": 49,
   "metadata": {},
   "outputs": [],
   "source": [
    "kser = ks.Series(pser)"
   ]
  },
  {
   "cell_type": "code",
   "execution_count": 50,
   "metadata": {},
   "outputs": [
    {
     "data": {
      "text/plain": [
       "2000-01-01    1.230415\n",
       "2000-01-02    1.346274\n",
       "2000-01-03    1.346274\n",
       "2000-01-04    1.346274\n",
       "2000-01-05    1.346274\n",
       "2000-01-06    1.346274\n",
       "2000-01-07    1.346274\n",
       "2000-01-08    1.346274\n",
       "2000-01-09    1.346274\n",
       "2000-01-10    2.647000\n",
       "2000-01-11    2.647000\n",
       "2000-01-12    2.647000\n",
       "2000-01-13    2.647000\n",
       "2000-01-14    2.647000\n",
       "2000-01-15    2.647000\n",
       "2000-01-16    2.647000\n",
       "2000-01-17    2.647000\n",
       "2000-01-18    2.647000\n",
       "2000-01-19    2.647000\n",
       "2000-01-20    2.647000\n",
       "2000-01-21    2.647000\n",
       "2000-01-22    2.647000\n",
       "2000-01-23    2.647000\n",
       "2000-01-24    2.647000\n",
       "2000-01-25    2.647000\n",
       "2000-01-26    2.647000\n",
       "2000-01-27    2.647000\n",
       "2000-01-28    2.647000\n",
       "2000-01-29    2.647000\n",
       "2000-01-30    2.647000\n",
       "2000-01-31    2.647000\n",
       "2000-02-01    2.647000\n",
       "2000-02-02    2.647000\n",
       "2000-02-03    2.647000\n",
       "2000-02-04    2.647000\n",
       "2000-02-05    2.647000\n",
       "2000-02-06    2.647000\n",
       "2000-02-07    2.647000\n",
       "2000-02-08    2.647000\n",
       "2000-02-09    2.647000\n",
       "2000-02-10    2.647000\n",
       "2000-02-11    2.647000\n",
       "2000-02-12    2.647000\n",
       "2000-02-13    2.647000\n",
       "2000-02-14    2.647000\n",
       "2000-02-15    2.647000\n",
       "2000-02-16    2.647000\n",
       "2000-02-17    2.647000\n",
       "2000-02-18    2.647000\n",
       "2000-02-19    2.647000\n",
       "2000-02-20    2.647000\n",
       "2000-02-21    2.647000\n",
       "2000-02-22    2.647000\n",
       "2000-02-23    2.647000\n",
       "2000-02-24    2.647000\n",
       "2000-02-25    2.647000\n",
       "2000-02-26    2.647000\n",
       "2000-02-27    2.647000\n",
       "2000-02-28    2.647000\n",
       "2000-02-29    2.647000\n",
       "2000-03-01    2.647000\n",
       "2000-03-02    2.647000\n",
       "2000-03-03    2.647000\n",
       "2000-03-04    2.647000\n",
       "2000-03-05    2.647000\n",
       "2000-03-06    2.647000\n",
       "2000-03-07    2.647000\n",
       "2000-03-08    2.647000\n",
       "2000-03-09    2.647000\n",
       "2000-03-10    2.647000\n",
       "2000-03-11    2.647000\n",
       "2000-03-12    2.647000\n",
       "2000-03-13    2.647000\n",
       "2000-03-14    2.647000\n",
       "2000-03-15    2.647000\n",
       "2000-03-16    2.647000\n",
       "2000-03-17    2.647000\n",
       "2000-03-18    2.647000\n",
       "2000-03-19    2.647000\n",
       "2000-03-20    2.647000\n",
       "2000-03-21    2.647000\n",
       "2000-03-22    2.647000\n",
       "2000-03-23    2.647000\n",
       "2000-03-24    2.647000\n",
       "2000-03-25    2.647000\n",
       "2000-03-26    2.647000\n",
       "2000-03-27    2.647000\n",
       "2000-03-28    2.647000\n",
       "2000-03-29    2.647000\n",
       "2000-03-30    2.647000\n",
       "2000-03-31    2.647000\n",
       "2000-04-01    2.647000\n",
       "2000-04-02    2.647000\n",
       "2000-04-03    2.647000\n",
       "2000-04-04    2.647000\n",
       "2000-04-05    2.647000\n",
       "2000-04-06    2.647000\n",
       "2000-04-07    2.647000\n",
       "2000-04-08    2.647000\n",
       "2000-04-09    2.647000\n",
       "2000-04-10    2.647000\n",
       "2000-04-11    2.647000\n",
       "2000-04-12    2.647000\n",
       "2000-04-13    2.647000\n",
       "2000-04-14    2.647000\n",
       "2000-04-15    2.647000\n",
       "2000-04-16    2.647000\n",
       "2000-04-17    2.647000\n",
       "2000-04-18    2.647000\n",
       "2000-04-19    2.647000\n",
       "2000-04-20    2.647000\n",
       "2000-04-21    2.647000\n",
       "2000-04-22    2.647000\n",
       "2000-04-23    2.647000\n",
       "2000-04-24    2.647000\n",
       "2000-04-25    2.647000\n",
       "2000-04-26    2.647000\n",
       "2000-04-27    2.647000\n",
       "2000-04-28    2.647000\n",
       "2000-04-29    2.647000\n",
       "2000-04-30    2.647000\n",
       "2000-05-01    2.647000\n",
       "2000-05-02    2.647000\n",
       "2000-05-03    2.647000\n",
       "2000-05-04    2.647000\n",
       "2000-05-05    2.647000\n",
       "2000-05-06    2.647000\n",
       "2000-05-07    2.647000\n",
       "2000-05-08    2.647000\n",
       "2000-05-09    2.647000\n",
       "2000-05-10    2.647000\n",
       "2000-05-11    2.647000\n",
       "2000-05-12    2.647000\n",
       "2000-05-13    2.647000\n",
       "2000-05-14    2.647000\n",
       "2000-05-15    2.647000\n",
       "2000-05-16    2.647000\n",
       "2000-05-17    2.647000\n",
       "2000-05-18    2.647000\n",
       "2000-05-19    2.647000\n",
       "2000-05-20    2.647000\n",
       "2000-05-21    2.647000\n",
       "2000-05-22    2.647000\n",
       "2000-05-23    2.647000\n",
       "2000-05-24    2.647000\n",
       "2000-05-25    2.647000\n",
       "2000-05-26    2.647000\n",
       "2000-05-27    2.647000\n",
       "2000-05-28    2.647000\n",
       "2000-05-29    2.647000\n",
       "2000-05-30    2.647000\n",
       "2000-05-31    2.647000\n",
       "2000-06-01    2.647000\n",
       "2000-06-02    2.647000\n",
       "2000-06-03    2.647000\n",
       "2000-06-04    2.647000\n",
       "2000-06-05    2.647000\n",
       "2000-06-06    2.647000\n",
       "2000-06-07    2.647000\n",
       "2000-06-08    2.647000\n",
       "2000-06-09    2.647000\n",
       "2000-06-10    2.647000\n",
       "2000-06-11    2.647000\n",
       "2000-06-12    2.647000\n",
       "2000-06-13    2.647000\n",
       "2000-06-14    2.647000\n",
       "2000-06-15    2.647000\n",
       "2000-06-16    2.647000\n",
       "2000-06-17    2.647000\n",
       "2000-06-18    2.647000\n",
       "2000-06-19    2.647000\n",
       "2000-06-20    2.647000\n",
       "2000-06-21    2.647000\n",
       "2000-06-22    2.647000\n",
       "2000-06-23    2.647000\n",
       "2000-06-24    2.647000\n",
       "2000-06-25    2.647000\n",
       "2000-06-26    2.647000\n",
       "2000-06-27    2.647000\n",
       "2000-06-28    2.647000\n",
       "2000-06-29    2.647000\n",
       "2000-06-30    2.647000\n",
       "2000-07-01    2.647000\n",
       "2000-07-02    2.647000\n",
       "2000-07-03    2.647000\n",
       "2000-07-04    2.647000\n",
       "2000-07-05    2.647000\n",
       "2000-07-06    2.647000\n",
       "2000-07-07    2.647000\n",
       "2000-07-08    2.647000\n",
       "2000-07-09    2.647000\n",
       "2000-07-10    2.647000\n",
       "2000-07-11    2.647000\n",
       "2000-07-12    2.647000\n",
       "2000-07-13    2.647000\n",
       "2000-07-14    2.647000\n",
       "2000-07-15    2.647000\n",
       "2000-07-16    2.647000\n",
       "2000-07-17    2.647000\n",
       "2000-07-18    2.647000\n",
       "2000-07-19    2.647000\n",
       "2000-07-20    2.647000\n",
       "2000-07-21    2.647000\n",
       "2000-07-22    2.647000\n",
       "2000-07-23    2.647000\n",
       "2000-07-24    2.647000\n",
       "2000-07-25    2.647000\n",
       "2000-07-26    2.647000\n",
       "2000-07-27    2.647000\n",
       "2000-07-28    2.647000\n",
       "2000-07-29    2.647000\n",
       "2000-07-30    2.647000\n",
       "2000-07-31    2.647000\n",
       "2000-08-01    2.647000\n",
       "2000-08-02    2.647000\n",
       "2000-08-03    2.647000\n",
       "2000-08-04    2.647000\n",
       "2000-08-05    2.647000\n",
       "2000-08-06    2.647000\n",
       "2000-08-07    2.647000\n",
       "2000-08-08    2.647000\n",
       "2000-08-09    2.647000\n",
       "2000-08-10    2.647000\n",
       "2000-08-11    2.647000\n",
       "2000-08-12    2.647000\n",
       "2000-08-13    2.647000\n",
       "2000-08-14    2.647000\n",
       "2000-08-15    2.647000\n",
       "2000-08-16    2.647000\n",
       "2000-08-17    2.647000\n",
       "2000-08-18    2.647000\n",
       "2000-08-19    2.647000\n",
       "2000-08-20    2.647000\n",
       "2000-08-21    2.647000\n",
       "2000-08-22    2.647000\n",
       "2000-08-23    2.647000\n",
       "2000-08-24    2.647000\n",
       "2000-08-25    2.647000\n",
       "2000-08-26    2.647000\n",
       "2000-08-27    2.647000\n",
       "2000-08-28    2.647000\n",
       "2000-08-29    2.647000\n",
       "2000-08-30    2.647000\n",
       "2000-08-31    2.647000\n",
       "2000-09-01    2.647000\n",
       "2000-09-02    2.647000\n",
       "2000-09-03    2.647000\n",
       "2000-09-04    2.647000\n",
       "2000-09-05    2.647000\n",
       "2000-09-06    2.647000\n",
       "2000-09-07    2.647000\n",
       "2000-09-08    2.647000\n",
       "2000-09-09    2.647000\n",
       "2000-09-10    2.647000\n",
       "2000-09-11    2.647000\n",
       "2000-09-12    2.647000\n",
       "2000-09-13    2.647000\n",
       "2000-09-14    2.647000\n",
       "2000-09-15    2.647000\n",
       "2000-09-16    2.647000\n",
       "2000-09-17    2.647000\n",
       "2000-09-18    2.647000\n",
       "2000-09-19    2.647000\n",
       "2000-09-20    2.647000\n",
       "2000-09-21    2.647000\n",
       "2000-09-22    2.647000\n",
       "2000-09-23    2.647000\n",
       "2000-09-24    2.647000\n",
       "2000-09-25    2.647000\n",
       "2000-09-26    2.647000\n",
       "2000-09-27    2.647000\n",
       "2000-09-28    2.647000\n",
       "2000-09-29    2.647000\n",
       "2000-09-30    2.647000\n",
       "2000-10-01    2.647000\n",
       "2000-10-02    2.647000\n",
       "2000-10-03    2.647000\n",
       "2000-10-04    2.647000\n",
       "2000-10-05    2.647000\n",
       "2000-10-06    2.647000\n",
       "2000-10-07    2.647000\n",
       "2000-10-08    2.647000\n",
       "2000-10-09    2.647000\n",
       "2000-10-10    2.647000\n",
       "2000-10-11    2.647000\n",
       "2000-10-12    2.647000\n",
       "2000-10-13    2.647000\n",
       "2000-10-14    2.647000\n",
       "2000-10-15    2.647000\n",
       "2000-10-16    2.647000\n",
       "2000-10-17    2.647000\n",
       "2000-10-18    2.647000\n",
       "2000-10-19    2.647000\n",
       "2000-10-20    2.647000\n",
       "2000-10-21    2.647000\n",
       "2000-10-22    2.647000\n",
       "2000-10-23    2.647000\n",
       "2000-10-24    2.647000\n",
       "2000-10-25    2.647000\n",
       "2000-10-26    2.647000\n",
       "2000-10-27    2.647000\n",
       "2000-10-28    2.647000\n",
       "2000-10-29    2.647000\n",
       "2000-10-30    2.647000\n",
       "2000-10-31    2.647000\n",
       "2000-11-01    2.647000\n",
       "2000-11-02    2.647000\n",
       "2000-11-03    2.647000\n",
       "2000-11-04    2.647000\n",
       "2000-11-05    2.647000\n",
       "2000-11-06    2.647000\n",
       "2000-11-07    2.647000\n",
       "2000-11-08    2.647000\n",
       "2000-11-09    2.647000\n",
       "2000-11-10    2.647000\n",
       "2000-11-11    2.647000\n",
       "2000-11-12    2.647000\n",
       "2000-11-13    2.647000\n",
       "2000-11-14    2.647000\n",
       "2000-11-15    2.647000\n",
       "2000-11-16    2.647000\n",
       "2000-11-17    2.647000\n",
       "2000-11-18    2.647000\n",
       "2000-11-19    2.647000\n",
       "2000-11-20    2.647000\n",
       "2000-11-21    2.647000\n",
       "2000-11-22    2.647000\n",
       "2000-11-23    2.647000\n",
       "2000-11-24    2.647000\n",
       "2000-11-25    2.647000\n",
       "2000-11-26    2.647000\n",
       "2000-11-27    2.647000\n",
       "2000-11-28    2.647000\n",
       "2000-11-29    2.647000\n",
       "2000-11-30    2.647000\n",
       "2000-12-01    2.647000\n",
       "2000-12-02    2.647000\n",
       "2000-12-03    2.647000\n",
       "2000-12-04    2.647000\n",
       "2000-12-05    2.647000\n",
       "2000-12-06    2.647000\n",
       "2000-12-07    2.647000\n",
       "2000-12-08    2.647000\n",
       "2000-12-09    2.647000\n",
       "2000-12-10    2.647000\n",
       "2000-12-11    2.647000\n",
       "2000-12-12    2.647000\n",
       "2000-12-13    2.647000\n",
       "2000-12-14    2.647000\n",
       "2000-12-15    2.647000\n",
       "2000-12-16    2.647000\n",
       "2000-12-17    2.647000\n",
       "2000-12-18    2.647000\n",
       "2000-12-19    2.647000\n",
       "2000-12-20    2.647000\n",
       "2000-12-21    2.647000\n",
       "2000-12-22    2.647000\n",
       "2000-12-23    2.647000\n",
       "2000-12-24    2.647000\n",
       "2000-12-25    2.647000\n",
       "2000-12-26    2.647000\n",
       "2000-12-27    2.647000\n",
       "2000-12-28    2.647000\n",
       "2000-12-29    2.647000\n",
       "2000-12-30    2.647000\n",
       "2000-12-31    2.647000\n",
       "2001-01-01    2.647000\n",
       "2001-01-02    2.647000\n",
       "2001-01-03    2.647000\n",
       "2001-01-04    2.647000\n",
       "2001-01-05    2.647000\n",
       "2001-01-06    2.647000\n",
       "2001-01-07    2.647000\n",
       "2001-01-08    2.647000\n",
       "2001-01-09    2.647000\n",
       "2001-01-10    2.647000\n",
       "2001-01-11    2.647000\n",
       "2001-01-12    2.647000\n",
       "2001-01-13    2.647000\n",
       "2001-01-14    2.647000\n",
       "2001-01-15    2.647000\n",
       "2001-01-16    2.647000\n",
       "2001-01-17    2.647000\n",
       "2001-01-18    2.647000\n",
       "2001-01-19    2.647000\n",
       "2001-01-20    2.647000\n",
       "2001-01-21    2.647000\n",
       "2001-01-22    2.647000\n",
       "2001-01-23    2.647000\n",
       "2001-01-24    2.647000\n",
       "2001-01-25    2.647000\n",
       "2001-01-26    2.647000\n",
       "2001-01-27    2.647000\n",
       "2001-01-28    2.647000\n",
       "2001-01-29    2.647000\n",
       "2001-01-30    2.647000\n",
       "2001-01-31    2.647000\n",
       "2001-02-01    2.647000\n",
       "2001-02-02    2.647000\n",
       "2001-02-03    2.647000\n",
       "2001-02-04    2.647000\n",
       "2001-02-05    2.647000\n",
       "2001-02-06    2.647000\n",
       "2001-02-07    2.647000\n",
       "2001-02-08    2.647000\n",
       "2001-02-09    2.647000\n",
       "2001-02-10    2.647000\n",
       "2001-02-11    2.647000\n",
       "2001-02-12    2.647000\n",
       "2001-02-13    2.647000\n",
       "2001-02-14    2.647000\n",
       "2001-02-15    2.647000\n",
       "2001-02-16    2.647000\n",
       "2001-02-17    2.647000\n",
       "2001-02-18    2.647000\n",
       "2001-02-19    2.647000\n",
       "2001-02-20    2.647000\n",
       "2001-02-21    2.647000\n",
       "2001-02-22    2.647000\n",
       "2001-02-23    2.647000\n",
       "2001-02-24    2.647000\n",
       "2001-02-25    2.647000\n",
       "2001-02-26    2.647000\n",
       "2001-02-27    2.647000\n",
       "2001-02-28    2.647000\n",
       "2001-03-01    2.647000\n",
       "2001-03-02    2.647000\n",
       "2001-03-03    2.647000\n",
       "2001-03-04    2.647000\n",
       "2001-03-05    2.647000\n",
       "2001-03-06    2.647000\n",
       "2001-03-07    2.647000\n",
       "2001-03-08    2.647000\n",
       "2001-03-09    2.647000\n",
       "2001-03-10    2.647000\n",
       "2001-03-11    2.647000\n",
       "2001-03-12    2.647000\n",
       "2001-03-13    2.647000\n",
       "2001-03-14    2.647000\n",
       "2001-03-15    2.647000\n",
       "2001-03-16    2.647000\n",
       "2001-03-17    2.647000\n",
       "2001-03-18    2.647000\n",
       "2001-03-19    2.647000\n",
       "2001-03-20    2.647000\n",
       "2001-03-21    2.647000\n",
       "2001-03-22    2.647000\n",
       "2001-03-23    2.647000\n",
       "2001-03-24    2.647000\n",
       "2001-03-25    2.647000\n",
       "2001-03-26    2.647000\n",
       "2001-03-27    2.647000\n",
       "2001-03-28    2.647000\n",
       "2001-03-29    2.647000\n",
       "2001-03-30    2.647000\n",
       "2001-03-31    2.647000\n",
       "2001-04-01    2.647000\n",
       "2001-04-02    2.647000\n",
       "2001-04-03    2.647000\n",
       "2001-04-04    2.647000\n",
       "2001-04-05    2.647000\n",
       "2001-04-06    2.647000\n",
       "2001-04-07    2.647000\n",
       "2001-04-08    2.647000\n",
       "2001-04-09    2.647000\n",
       "2001-04-10    2.647000\n",
       "2001-04-11    2.647000\n",
       "2001-04-12    2.647000\n",
       "2001-04-13    2.647000\n",
       "2001-04-14    2.647000\n",
       "2001-04-15    2.647000\n",
       "2001-04-16    2.647000\n",
       "2001-04-17    2.647000\n",
       "2001-04-18    2.647000\n",
       "2001-04-19    2.647000\n",
       "2001-04-20    2.647000\n",
       "2001-04-21    2.647000\n",
       "2001-04-22    2.647000\n",
       "2001-04-23    2.647000\n",
       "2001-04-24    2.647000\n",
       "2001-04-25    2.647000\n",
       "2001-04-26    2.647000\n",
       "2001-04-27    2.647000\n",
       "2001-04-28    2.647000\n",
       "2001-04-29    2.647000\n",
       "2001-04-30    2.647000\n",
       "2001-05-01    2.647000\n",
       "2001-05-02    2.647000\n",
       "2001-05-03    2.647000\n",
       "2001-05-04    2.647000\n",
       "2001-05-05    2.647000\n",
       "2001-05-06    2.647000\n",
       "2001-05-07    2.647000\n",
       "2001-05-08    2.647000\n",
       "2001-05-09    2.647000\n",
       "2001-05-10    2.647000\n",
       "2001-05-11    2.647000\n",
       "2001-05-12    2.647000\n",
       "2001-05-13    2.647000\n",
       "2001-05-14    2.647000\n",
       "2001-05-15    3.056136\n",
       "2001-05-16    3.056136\n",
       "2001-05-17    3.056136\n",
       "2001-05-18    3.056136\n",
       "2001-05-19    3.056136\n",
       "2001-05-20    3.056136\n",
       "2001-05-21    3.056136\n",
       "2001-05-22    3.056136\n",
       "2001-05-23    3.056136\n",
       "2001-05-24    3.056136\n",
       "2001-05-25    3.056136\n",
       "2001-05-26    3.056136\n",
       "2001-05-27    3.056136\n",
       "2001-05-28    3.056136\n",
       "2001-05-29    3.056136\n",
       "2001-05-30    3.056136\n",
       "2001-05-31    3.056136\n",
       "2001-06-01    3.056136\n",
       "2001-06-02    3.056136\n",
       "2001-06-03    3.056136\n",
       "2001-06-04    3.056136\n",
       "2001-06-05    3.056136\n",
       "2001-06-06    3.056136\n",
       "2001-06-07    3.056136\n",
       "2001-06-08    3.056136\n",
       "2001-06-09    3.056136\n",
       "2001-06-10    3.056136\n",
       "2001-06-11    3.056136\n",
       "2001-06-12    3.056136\n",
       "2001-06-13    3.056136\n",
       "2001-06-14    3.056136\n",
       "2001-06-15    3.056136\n",
       "2001-06-16    3.056136\n",
       "2001-06-17    3.056136\n",
       "2001-06-18    3.056136\n",
       "2001-06-19    3.056136\n",
       "2001-06-20    3.056136\n",
       "2001-06-21    3.056136\n",
       "2001-06-22    3.056136\n",
       "2001-06-23    3.056136\n",
       "2001-06-24    3.056136\n",
       "2001-06-25    3.056136\n",
       "2001-06-26    3.056136\n",
       "2001-06-27    3.056136\n",
       "2001-06-28    3.056136\n",
       "2001-06-29    3.056136\n",
       "2001-06-30    3.056136\n",
       "2001-07-01    3.056136\n",
       "2001-07-02    3.056136\n",
       "2001-07-03    3.056136\n",
       "2001-07-04    3.056136\n",
       "2001-07-05    3.056136\n",
       "2001-07-06    3.056136\n",
       "2001-07-07    3.056136\n",
       "2001-07-08    3.056136\n",
       "2001-07-09    3.056136\n",
       "2001-07-10    3.056136\n",
       "2001-07-11    3.056136\n",
       "2001-07-12    3.056136\n",
       "2001-07-13    3.056136\n",
       "2001-07-14    3.056136\n",
       "2001-07-15    3.056136\n",
       "2001-07-16    3.056136\n",
       "2001-07-17    3.056136\n",
       "2001-07-18    3.056136\n",
       "2001-07-19    3.056136\n",
       "2001-07-20    3.056136\n",
       "2001-07-21    3.056136\n",
       "2001-07-22    3.056136\n",
       "2001-07-23    3.056136\n",
       "2001-07-24    3.056136\n",
       "2001-07-25    3.056136\n",
       "2001-07-26    3.056136\n",
       "2001-07-27    3.056136\n",
       "2001-07-28    3.056136\n",
       "2001-07-29    3.056136\n",
       "2001-07-30    3.056136\n",
       "2001-07-31    3.056136\n",
       "2001-08-01    3.056136\n",
       "2001-08-02    3.056136\n",
       "2001-08-03    3.056136\n",
       "2001-08-04    3.056136\n",
       "2001-08-05    3.056136\n",
       "2001-08-06    3.056136\n",
       "2001-08-07    3.056136\n",
       "2001-08-08    3.056136\n",
       "2001-08-09    3.056136\n",
       "2001-08-10    3.056136\n",
       "2001-08-11    3.056136\n",
       "2001-08-12    3.056136\n",
       "2001-08-13    3.056136\n",
       "2001-08-14    3.056136\n",
       "2001-08-15    3.056136\n",
       "2001-08-16    3.056136\n",
       "2001-08-17    3.056136\n",
       "2001-08-18    3.056136\n",
       "2001-08-19    3.056136\n",
       "2001-08-20    3.056136\n",
       "2001-08-21    3.056136\n",
       "2001-08-22    3.056136\n",
       "2001-08-23    3.056136\n",
       "2001-08-24    3.056136\n",
       "2001-08-25    3.056136\n",
       "2001-08-26    3.056136\n",
       "2001-08-27    3.056136\n",
       "2001-08-28    3.056136\n",
       "2001-08-29    3.056136\n",
       "2001-08-30    3.056136\n",
       "2001-08-31    3.056136\n",
       "2001-09-01    3.056136\n",
       "2001-09-02    3.056136\n",
       "2001-09-03    3.056136\n",
       "2001-09-04    3.056136\n",
       "2001-09-05    3.056136\n",
       "2001-09-06    3.056136\n",
       "2001-09-07    3.056136\n",
       "2001-09-08    3.056136\n",
       "2001-09-09    3.056136\n",
       "2001-09-10    3.056136\n",
       "2001-09-11    3.056136\n",
       "2001-09-12    3.056136\n",
       "2001-09-13    3.056136\n",
       "2001-09-14    3.056136\n",
       "2001-09-15    3.056136\n",
       "2001-09-16    3.056136\n",
       "2001-09-17    3.056136\n",
       "2001-09-18    3.056136\n",
       "2001-09-19    3.056136\n",
       "2001-09-20    3.056136\n",
       "2001-09-21    3.056136\n",
       "2001-09-22    3.056136\n",
       "2001-09-23    3.056136\n",
       "2001-09-24    3.056136\n",
       "2001-09-25    3.056136\n",
       "2001-09-26    3.056136\n",
       "2001-09-27    3.056136\n",
       "2001-09-28    3.056136\n",
       "2001-09-29    3.056136\n",
       "2001-09-30    3.056136\n",
       "2001-10-01    3.056136\n",
       "2001-10-02    3.056136\n",
       "2001-10-03    3.056136\n",
       "2001-10-04    3.056136\n",
       "2001-10-05    3.056136\n",
       "2001-10-06    3.056136\n",
       "2001-10-07    3.056136\n",
       "2001-10-08    3.056136\n",
       "2001-10-09    3.056136\n",
       "2001-10-10    3.056136\n",
       "2001-10-11    3.056136\n",
       "2001-10-12    3.056136\n",
       "2001-10-13    3.056136\n",
       "2001-10-14    3.056136\n",
       "2001-10-15    3.056136\n",
       "2001-10-16    3.056136\n",
       "2001-10-17    3.056136\n",
       "2001-10-18    3.056136\n",
       "2001-10-19    3.056136\n",
       "2001-10-20    3.056136\n",
       "2001-10-21    3.056136\n",
       "2001-10-22    3.056136\n",
       "2001-10-23    3.056136\n",
       "2001-10-24    3.056136\n",
       "2001-10-25    3.056136\n",
       "2001-10-26    3.056136\n",
       "2001-10-27    3.056136\n",
       "2001-10-28    3.056136\n",
       "2001-10-29    3.056136\n",
       "2001-10-30    3.056136\n",
       "2001-10-31    3.056136\n",
       "2001-11-01    3.056136\n",
       "2001-11-02    3.056136\n",
       "2001-11-03    3.056136\n",
       "2001-11-04    3.056136\n",
       "2001-11-05    3.056136\n",
       "2001-11-06    3.056136\n",
       "2001-11-07    3.056136\n",
       "2001-11-08    3.056136\n",
       "2001-11-09    3.056136\n",
       "2001-11-10    3.056136\n",
       "2001-11-11    3.056136\n",
       "2001-11-12    3.056136\n",
       "2001-11-13    3.056136\n",
       "2001-11-14    3.056136\n",
       "2001-11-15    3.056136\n",
       "2001-11-16    3.056136\n",
       "2001-11-17    3.056136\n",
       "2001-11-18    3.056136\n",
       "2001-11-19    3.056136\n",
       "2001-11-20    3.056136\n",
       "2001-11-21    3.056136\n",
       "2001-11-22    3.056136\n",
       "2001-11-23    3.056136\n",
       "2001-11-24    3.056136\n",
       "2001-11-25    3.056136\n",
       "2001-11-26    3.056136\n",
       "2001-11-27    3.056136\n",
       "2001-11-28    3.056136\n",
       "2001-11-29    3.056136\n",
       "2001-11-30    3.056136\n",
       "2001-12-01    3.056136\n",
       "2001-12-02    3.056136\n",
       "2001-12-03    3.056136\n",
       "2001-12-04    3.056136\n",
       "2001-12-05    3.056136\n",
       "2001-12-06    3.056136\n",
       "2001-12-07    3.056136\n",
       "2001-12-08    3.056136\n",
       "2001-12-09    3.056136\n",
       "2001-12-10    3.056136\n",
       "2001-12-11    3.056136\n",
       "2001-12-12    3.056136\n",
       "2001-12-13    3.056136\n",
       "2001-12-14    3.056136\n",
       "2001-12-15    3.056136\n",
       "2001-12-16    3.056136\n",
       "2001-12-17    3.056136\n",
       "2001-12-18    3.056136\n",
       "2001-12-19    3.056136\n",
       "2001-12-20    3.056136\n",
       "2001-12-21    3.056136\n",
       "2001-12-22    3.056136\n",
       "2001-12-23    3.056136\n",
       "2001-12-24    3.056136\n",
       "2001-12-25    3.056136\n",
       "2001-12-26    3.056136\n",
       "2001-12-27    3.056136\n",
       "2001-12-28    3.056136\n",
       "2001-12-29    3.056136\n",
       "2001-12-30    3.056136\n",
       "2001-12-31    3.056136\n",
       "2002-01-01    3.056136\n",
       "2002-01-02    3.056136\n",
       "2002-01-03    3.056136\n",
       "2002-01-04    3.056136\n",
       "2002-01-05    3.056136\n",
       "2002-01-06    3.056136\n",
       "2002-01-07    3.056136\n",
       "2002-01-08    3.056136\n",
       "2002-01-09    3.056136\n",
       "2002-01-10    3.056136\n",
       "2002-01-11    3.056136\n",
       "2002-01-12    3.056136\n",
       "2002-01-13    3.056136\n",
       "2002-01-14    3.056136\n",
       "2002-01-15    3.056136\n",
       "2002-01-16    3.056136\n",
       "2002-01-17    3.056136\n",
       "2002-01-18    3.056136\n",
       "2002-01-19    3.056136\n",
       "2002-01-20    3.056136\n",
       "2002-01-21    3.056136\n",
       "2002-01-22    3.056136\n",
       "2002-01-23    3.056136\n",
       "2002-01-24    3.056136\n",
       "2002-01-25    3.056136\n",
       "2002-01-26    3.056136\n",
       "2002-01-27    3.056136\n",
       "2002-01-28    3.056136\n",
       "2002-01-29    3.056136\n",
       "2002-01-30    3.056136\n",
       "2002-01-31    3.056136\n",
       "2002-02-01    3.056136\n",
       "2002-02-02    3.056136\n",
       "2002-02-03    3.056136\n",
       "2002-02-04    3.056136\n",
       "2002-02-05    3.056136\n",
       "2002-02-06    3.056136\n",
       "2002-02-07    3.056136\n",
       "2002-02-08    3.056136\n",
       "2002-02-09    3.056136\n",
       "2002-02-10    3.056136\n",
       "2002-02-11    3.056136\n",
       "2002-02-12    3.056136\n",
       "2002-02-13    3.056136\n",
       "2002-02-14    3.056136\n",
       "2002-02-15    3.056136\n",
       "2002-02-16    3.056136\n",
       "2002-02-17    3.056136\n",
       "2002-02-18    3.056136\n",
       "2002-02-19    3.056136\n",
       "2002-02-20    3.056136\n",
       "2002-02-21    3.056136\n",
       "2002-02-22    3.056136\n",
       "2002-02-23    3.056136\n",
       "2002-02-24    3.056136\n",
       "2002-02-25    3.056136\n",
       "2002-02-26    3.056136\n",
       "2002-02-27    3.056136\n",
       "2002-02-28    3.056136\n",
       "2002-03-01    3.056136\n",
       "2002-03-02    3.056136\n",
       "2002-03-03    3.056136\n",
       "2002-03-04    3.056136\n",
       "2002-03-05    3.056136\n",
       "2002-03-06    3.056136\n",
       "2002-03-07    3.056136\n",
       "2002-03-08    3.056136\n",
       "2002-03-09    3.056136\n",
       "2002-03-10    3.056136\n",
       "2002-03-11    3.056136\n",
       "2002-03-12    3.056136\n",
       "2002-03-13    3.056136\n",
       "2002-03-14    3.056136\n",
       "2002-03-15    3.056136\n",
       "2002-03-16    3.056136\n",
       "2002-03-17    3.056136\n",
       "2002-03-18    3.056136\n",
       "2002-03-19    3.056136\n",
       "2002-03-20    3.056136\n",
       "2002-03-21    3.056136\n",
       "2002-03-22    3.056136\n",
       "2002-03-23    3.056136\n",
       "2002-03-24    3.056136\n",
       "2002-03-25    3.056136\n",
       "2002-03-26    3.056136\n",
       "2002-03-27    3.056136\n",
       "2002-03-28    3.056136\n",
       "2002-03-29    3.056136\n",
       "2002-03-30    3.056136\n",
       "2002-03-31    3.056136\n",
       "2002-04-01    3.056136\n",
       "2002-04-02    3.056136\n",
       "2002-04-03    3.056136\n",
       "2002-04-04    3.056136\n",
       "2002-04-05    3.056136\n",
       "2002-04-06    3.056136\n",
       "2002-04-07    3.056136\n",
       "2002-04-08    3.056136\n",
       "2002-04-09    3.056136\n",
       "2002-04-10    3.056136\n",
       "2002-04-11    3.056136\n",
       "2002-04-12    3.056136\n",
       "2002-04-13    3.056136\n",
       "2002-04-14    3.056136\n",
       "2002-04-15    3.056136\n",
       "2002-04-16    3.056136\n",
       "2002-04-17    3.056136\n",
       "2002-04-18    3.056136\n",
       "2002-04-19    3.056136\n",
       "2002-04-20    3.056136\n",
       "2002-04-21    3.056136\n",
       "2002-04-22    3.056136\n",
       "2002-04-23    3.056136\n",
       "2002-04-24    3.056136\n",
       "2002-04-25    3.056136\n",
       "2002-04-26    3.056136\n",
       "2002-04-27    3.056136\n",
       "2002-04-28    3.056136\n",
       "2002-04-29    3.056136\n",
       "2002-04-30    3.056136\n",
       "2002-05-01    3.056136\n",
       "2002-05-02    3.056136\n",
       "2002-05-03    3.056136\n",
       "2002-05-04    3.056136\n",
       "2002-05-05    3.056136\n",
       "2002-05-06    3.056136\n",
       "2002-05-07    3.056136\n",
       "2002-05-08    3.056136\n",
       "2002-05-09    3.056136\n",
       "2002-05-10    3.056136\n",
       "2002-05-11    3.056136\n",
       "2002-05-12    3.056136\n",
       "2002-05-13    3.056136\n",
       "2002-05-14    3.056136\n",
       "2002-05-15    3.056136\n",
       "2002-05-16    3.056136\n",
       "2002-05-17    3.056136\n",
       "2002-05-18    3.056136\n",
       "2002-05-19    3.056136\n",
       "2002-05-20    3.056136\n",
       "2002-05-21    3.056136\n",
       "2002-05-22    3.056136\n",
       "2002-05-23    3.056136\n",
       "2002-05-24    3.056136\n",
       "2002-05-25    3.056136\n",
       "2002-05-26    3.056136\n",
       "2002-05-27    3.056136\n",
       "2002-05-28    3.056136\n",
       "2002-05-29    3.056136\n",
       "2002-05-30    3.056136\n",
       "2002-05-31    3.056136\n",
       "2002-06-01    3.056136\n",
       "2002-06-02    3.056136\n",
       "2002-06-03    3.056136\n",
       "2002-06-04    3.056136\n",
       "2002-06-05    3.056136\n",
       "2002-06-06    3.056136\n",
       "2002-06-07    3.056136\n",
       "2002-06-08    3.056136\n",
       "2002-06-09    3.056136\n",
       "2002-06-10    3.056136\n",
       "2002-06-11    3.056136\n",
       "2002-06-12    3.056136\n",
       "2002-06-13    3.056136\n",
       "2002-06-14    3.056136\n",
       "2002-06-15    3.056136\n",
       "2002-06-16    3.056136\n",
       "2002-06-17    3.056136\n",
       "2002-06-18    3.056136\n",
       "2002-06-19    3.056136\n",
       "2002-06-20    3.056136\n",
       "2002-06-21    3.056136\n",
       "2002-06-22    3.056136\n",
       "2002-06-23    3.056136\n",
       "2002-06-24    3.056136\n",
       "2002-06-25    3.056136\n",
       "2002-06-26    3.056136\n",
       "2002-06-27    3.056136\n",
       "2002-06-28    3.056136\n",
       "2002-06-29    3.056136\n",
       "2002-06-30    3.056136\n",
       "2002-07-01    3.056136\n",
       "2002-07-02    3.056136\n",
       "2002-07-03    3.056136\n",
       "2002-07-04    3.056136\n",
       "2002-07-05    3.056136\n",
       "2002-07-06    3.056136\n",
       "2002-07-07    3.056136\n",
       "2002-07-08    3.056136\n",
       "2002-07-09    3.056136\n",
       "2002-07-10    3.056136\n",
       "2002-07-11    3.056136\n",
       "2002-07-12    3.056136\n",
       "2002-07-13    3.056136\n",
       "2002-07-14    3.056136\n",
       "2002-07-15    3.056136\n",
       "2002-07-16    3.056136\n",
       "2002-07-17    3.056136\n",
       "2002-07-18    3.056136\n",
       "2002-07-19    3.056136\n",
       "2002-07-20    3.056136\n",
       "2002-07-21    3.056136\n",
       "2002-07-22    3.056136\n",
       "2002-07-23    3.056136\n",
       "2002-07-24    3.056136\n",
       "2002-07-25    3.056136\n",
       "2002-07-26    3.056136\n",
       "2002-07-27    3.056136\n",
       "2002-07-28    3.056136\n",
       "2002-07-29    3.056136\n",
       "2002-07-30    3.056136\n",
       "2002-07-31    3.056136\n",
       "2002-08-01    3.056136\n",
       "2002-08-02    3.056136\n",
       "2002-08-03    3.056136\n",
       "2002-08-04    3.056136\n",
       "2002-08-05    3.056136\n",
       "2002-08-06    3.056136\n",
       "2002-08-07    3.056136\n",
       "2002-08-08    3.056136\n",
       "2002-08-09    3.056136\n",
       "2002-08-10    3.056136\n",
       "2002-08-11    3.056136\n",
       "2002-08-12    3.056136\n",
       "2002-08-13    3.056136\n",
       "2002-08-14    3.056136\n",
       "2002-08-15    3.056136\n",
       "2002-08-16    3.056136\n",
       "2002-08-17    3.056136\n",
       "2002-08-18    3.056136\n",
       "2002-08-19    3.056136\n",
       "2002-08-20    3.056136\n",
       "2002-08-21    3.056136\n",
       "2002-08-22    3.056136\n",
       "2002-08-23    3.056136\n",
       "2002-08-24    3.056136\n",
       "2002-08-25    3.056136\n",
       "2002-08-26    3.056136\n",
       "2002-08-27    3.056136\n",
       "2002-08-28    3.056136\n",
       "2002-08-29    3.056136\n",
       "2002-08-30    3.056136\n",
       "2002-08-31    3.220705\n",
       "2002-09-01    3.220705\n",
       "2002-09-02    3.220705\n",
       "2002-09-03    3.220705\n",
       "2002-09-04    3.220705\n",
       "2002-09-05    3.220705\n",
       "2002-09-06    3.220705\n",
       "2002-09-07    3.220705\n",
       "2002-09-08    3.220705\n",
       "2002-09-09    3.220705\n",
       "2002-09-10    3.220705\n",
       "2002-09-11    3.220705\n",
       "2002-09-12    3.220705\n",
       "2002-09-13    3.220705\n",
       "2002-09-14    3.220705\n",
       "2002-09-15    3.220705\n",
       "2002-09-16    3.220705\n",
       "2002-09-17    3.220705\n",
       "2002-09-18    3.220705\n",
       "2002-09-19    3.220705\n",
       "2002-09-20    3.220705\n",
       "2002-09-21    3.220705\n",
       "2002-09-22    3.220705\n",
       "2002-09-23    3.220705\n",
       "2002-09-24    3.220705\n",
       "2002-09-25    3.220705\n",
       "2002-09-26    3.220705\n",
       "dtype: float64"
      ]
     },
     "execution_count": 50,
     "metadata": {},
     "output_type": "execute_result"
    }
   ],
   "source": [
    "kser = kser.cummax()\n",
    "kser"
   ]
  },
  {
   "cell_type": "markdown",
   "metadata": {},
   "source": [
    "**Gráficos de matplotlib**"
   ]
  },
  {
   "cell_type": "code",
   "execution_count": 52,
   "metadata": {},
   "outputs": [
    {
     "name": "stdout",
     "output_type": "stream",
     "text": [
      "Collecting matplotlib\n",
      "  Downloading matplotlib-3.3.4-cp36-cp36m-win_amd64.whl (8.5 MB)\n",
      "Collecting cycler>=0.10\n",
      "  Using cached cycler-0.11.0-py3-none-any.whl (6.4 kB)\n",
      "Collecting pyparsing!=2.0.4,!=2.1.2,!=2.1.6,>=2.0.3\n",
      "  Using cached pyparsing-3.1.1-py3-none-any.whl (103 kB)\n",
      "Collecting pillow>=6.2.0\n",
      "  Downloading Pillow-8.4.0-cp36-cp36m-win_amd64.whl (3.2 MB)\n",
      "Requirement already satisfied: numpy>=1.15 in c:\\users\\ilse-\\anaconda3\\envs\\bigdata2\\lib\\site-packages (from matplotlib) (1.19.5)\n",
      "Collecting kiwisolver>=1.0.1\n",
      "  Downloading kiwisolver-1.3.1-cp36-cp36m-win_amd64.whl (51 kB)\n",
      "Requirement already satisfied: python-dateutil>=2.1 in c:\\users\\ilse-\\anaconda3\\envs\\bigdata2\\lib\\site-packages (from matplotlib) (2.8.2)\n",
      "Requirement already satisfied: six>=1.5 in c:\\users\\ilse-\\anaconda3\\envs\\bigdata2\\lib\\site-packages (from python-dateutil>=2.1->matplotlib) (1.16.0)\n",
      "Installing collected packages: pyparsing, pillow, kiwisolver, cycler, matplotlib\n",
      "Successfully installed cycler-0.11.0 kiwisolver-1.3.1 matplotlib-3.3.4 pillow-8.4.0 pyparsing-3.1.1\n",
      "Note: you may need to restart the kernel to use updated packages.\n"
     ]
    }
   ],
   "source": [
    "pip install matplotlib"
   ]
  },
  {
   "cell_type": "code",
   "execution_count": 53,
   "metadata": {},
   "outputs": [
    {
     "data": {
      "text/plain": [
       "<AxesSubplot:>"
      ]
     },
     "execution_count": 53,
     "metadata": {},
     "output_type": "execute_result"
    },
    {
     "data": {
      "image/png": "[encoded data removed]",
      "text/plain": [
       "<Figure size 432x288 with 1 Axes>"
      ]
     },
     "metadata": {
      "needs_background": "light"
     },
     "output_type": "display_data"
    }
   ],
   "source": [
    "ks.options.plotting.backend = \"matplotlib\"\n",
    "\n",
    "kser.plot()"
   ]
  },
  {
   "cell_type": "markdown",
   "metadata": {},
   "source": [
    "**Gráficos de Pandas Bokeh**"
   ]
  },
  {
   "cell_type": "code",
   "execution_count": 55,
   "metadata": {},
   "outputs": [],
   "source": [
    "pip install pandas_bokeh"
   ]
  },
  {
   "cell_type": "code",
   "execution_count": 54,
   "metadata": {},
   "outputs": [
    {
     "ename": "ValueError",
     "evalue": "Could not find plotting backend 'pandas_bokeh'. Ensure that you've installed the package providing the 'pandas_bokeh' entrypoint, or that the package has a top-level `.plot` method.",
     "output_type": "error",
     "traceback": [
      "\u001b[1;31m---------------------------------------------------------------------------\u001b[0m",
      "\u001b[1;31mValueError\u001b[0m                                Traceback (most recent call last)",
      "\u001b[1;32m<ipython-input-54-a028f4d7f50e>\u001b[0m in \u001b[0;36m<module>\u001b[1;34m\u001b[0m\n\u001b[0;32m      1\u001b[0m \u001b[0mks\u001b[0m\u001b[1;33m.\u001b[0m\u001b[0moptions\u001b[0m\u001b[1;33m.\u001b[0m\u001b[0mplotting\u001b[0m\u001b[1;33m.\u001b[0m\u001b[0mbackend\u001b[0m \u001b[1;33m=\u001b[0m \u001b[1;34m\"pandas_bokeh\"\u001b[0m\u001b[1;33m\u001b[0m\u001b[1;33m\u001b[0m\u001b[0m\n\u001b[0;32m      2\u001b[0m \u001b[1;33m\u001b[0m\u001b[0m\n\u001b[1;32m----> 3\u001b[1;33m \u001b[0mkdf\u001b[0m\u001b[1;33m.\u001b[0m\u001b[0mplot\u001b[0m\u001b[1;33m(\u001b[0m\u001b[0mbackend\u001b[0m\u001b[1;33m=\u001b[0m\u001b[1;34m\"pandas_bokeh\"\u001b[0m\u001b[1;33m,\u001b[0m \u001b[0mtitle\u001b[0m\u001b[1;33m=\u001b[0m\u001b[1;34m\"Example Figure\"\u001b[0m\u001b[1;33m)\u001b[0m\u001b[1;33m\u001b[0m\u001b[1;33m\u001b[0m\u001b[0m\n\u001b[0m\u001b[0;32m      4\u001b[0m \u001b[0mkser\u001b[0m\u001b[1;33m.\u001b[0m\u001b[0mplot\u001b[0m\u001b[1;33m(\u001b[0m\u001b[1;33m)\u001b[0m\u001b[1;33m\u001b[0m\u001b[1;33m\u001b[0m\u001b[0m\n",
      "\u001b[1;32mc:\\Users\\ilse-\\anaconda3\\envs\\bigdata2\\lib\\site-packages\\databricks\\koalas\\plot\\core.py\u001b[0m in \u001b[0;36m__call__\u001b[1;34m(self, kind, backend, **kwargs)\u001b[0m\n\u001b[0;32m    489\u001b[0m \u001b[1;33m\u001b[0m\u001b[0m\n\u001b[0;32m    490\u001b[0m     \u001b[1;32mdef\u001b[0m \u001b[0m__call__\u001b[0m\u001b[1;33m(\u001b[0m\u001b[0mself\u001b[0m\u001b[1;33m,\u001b[0m \u001b[0mkind\u001b[0m\u001b[1;33m=\u001b[0m\u001b[1;34m\"line\"\u001b[0m\u001b[1;33m,\u001b[0m \u001b[0mbackend\u001b[0m\u001b[1;33m=\u001b[0m\u001b[1;32mNone\u001b[0m\u001b[1;33m,\u001b[0m \u001b[1;33m**\u001b[0m\u001b[0mkwargs\u001b[0m\u001b[1;33m)\u001b[0m\u001b[1;33m:\u001b[0m\u001b[1;33m\u001b[0m\u001b[1;33m\u001b[0m\u001b[0m\n\u001b[1;32m--> 491\u001b[1;33m         \u001b[0mplot_backend\u001b[0m \u001b[1;33m=\u001b[0m \u001b[0mKoalasPlotAccessor\u001b[0m\u001b[1;33m.\u001b[0m\u001b[0m_get_plot_backend\u001b[0m\u001b[1;33m(\u001b[0m\u001b[0mbackend\u001b[0m\u001b[1;33m)\u001b[0m\u001b[1;33m\u001b[0m\u001b[1;33m\u001b[0m\u001b[0m\n\u001b[0m\u001b[0;32m    492\u001b[0m         \u001b[0mplot_data\u001b[0m \u001b[1;33m=\u001b[0m \u001b[0mself\u001b[0m\u001b[1;33m.\u001b[0m\u001b[0mdata\u001b[0m\u001b[1;33m\u001b[0m\u001b[1;33m\u001b[0m\u001b[0m\n\u001b[0;32m    493\u001b[0m \u001b[1;33m\u001b[0m\u001b[0m\n",
      "\u001b[1;32mc:\\Users\\ilse-\\anaconda3\\envs\\bigdata2\\lib\\site-packages\\databricks\\koalas\\plot\\core.py\u001b[0m in \u001b[0;36m_get_plot_backend\u001b[1;34m(backend)\u001b[0m\n\u001b[0;32m    484\u001b[0m             \u001b[0mKoalasPlotAccessor\u001b[0m\u001b[1;33m.\u001b[0m\u001b[0m_backends\u001b[0m\u001b[1;33m[\u001b[0m\u001b[1;34m\"plotly\"\u001b[0m\u001b[1;33m]\u001b[0m \u001b[1;33m=\u001b[0m \u001b[0mmodule\u001b[0m\u001b[1;33m\u001b[0m\u001b[1;33m\u001b[0m\u001b[0m\n\u001b[0;32m    485\u001b[0m         \u001b[1;32melse\u001b[0m\u001b[1;33m:\u001b[0m\u001b[1;33m\u001b[0m\u001b[1;33m\u001b[0m\u001b[0m\n\u001b[1;32m--> 486\u001b[1;33m             \u001b[0mmodule\u001b[0m \u001b[1;33m=\u001b[0m \u001b[0mKoalasPlotAccessor\u001b[0m\u001b[1;33m.\u001b[0m\u001b[0m_find_backend\u001b[0m\u001b[1;33m(\u001b[0m\u001b[0mbackend\u001b[0m\u001b[1;33m)\u001b[0m\u001b[1;33m\u001b[0m\u001b[1;33m\u001b[0m\u001b[0m\n\u001b[0m\u001b[0;32m    487\u001b[0m             \u001b[0mKoalasPlotAccessor\u001b[0m\u001b[1;33m.\u001b[0m\u001b[0m_backends\u001b[0m\u001b[1;33m[\u001b[0m\u001b[0mbackend\u001b[0m\u001b[1;33m]\u001b[0m \u001b[1;33m=\u001b[0m \u001b[0mmodule\u001b[0m\u001b[1;33m\u001b[0m\u001b[1;33m\u001b[0m\u001b[0m\n\u001b[0;32m    488\u001b[0m         \u001b[1;32mreturn\u001b[0m \u001b[0mmodule\u001b[0m\u001b[1;33m\u001b[0m\u001b[1;33m\u001b[0m\u001b[0m\n",
      "\u001b[1;32mc:\\Users\\ilse-\\anaconda3\\envs\\bigdata2\\lib\\site-packages\\databricks\\koalas\\plot\\core.py\u001b[0m in \u001b[0;36m_find_backend\u001b[1;34m(backend)\u001b[0m\n\u001b[0;32m    447\u001b[0m             \u001b[1;34m\"Could not find plotting backend '{backend}'. Ensure that you've installed \"\u001b[0m\u001b[1;33m\u001b[0m\u001b[1;33m\u001b[0m\u001b[0m\n\u001b[0;32m    448\u001b[0m             \u001b[1;34m\"the package providing the '{backend}' entrypoint, or that the package has a \"\u001b[0m\u001b[1;33m\u001b[0m\u001b[1;33m\u001b[0m\u001b[0m\n\u001b[1;32m--> 449\u001b[1;33m             \u001b[1;34m\"top-level `.plot` method.\"\u001b[0m\u001b[1;33m.\u001b[0m\u001b[0mformat\u001b[0m\u001b[1;33m(\u001b[0m\u001b[0mbackend\u001b[0m\u001b[1;33m=\u001b[0m\u001b[0mbackend\u001b[0m\u001b[1;33m)\u001b[0m\u001b[1;33m\u001b[0m\u001b[1;33m\u001b[0m\u001b[0m\n\u001b[0m\u001b[0;32m    450\u001b[0m         )\n\u001b[0;32m    451\u001b[0m \u001b[1;33m\u001b[0m\u001b[0m\n",
      "\u001b[1;31mValueError\u001b[0m: Could not find plotting backend 'pandas_bokeh'. Ensure that you've installed the package providing the 'pandas_bokeh' entrypoint, or that the package has a top-level `.plot` method."
     ]
    }
   ],
   "source": [
    "ks.options.plotting.backend = \"pandas_bokeh\"\n",
    "\n",
    "kdf.plot(backend=\"pandas_bokeh\", title=\"Example Figure\")\n",
    "kser.plot()"
   ]
  },
  {
   "cell_type": "markdown",
   "metadata": {},
   "source": [
    "**Gráfico por defecto con plotly**"
   ]
  },
  {
   "cell_type": "code",
   "execution_count": null,
   "metadata": {},
   "outputs": [],
   "source": [
    "kser.plot()"
   ]
  },
  {
   "cell_type": "markdown",
   "metadata": {},
   "source": [
    "En un DataFrame, el plot() es una conveniencia para trazar todas las columnas con etiquetas:"
   ]
  },
  {
   "cell_type": "code",
   "execution_count": null,
   "metadata": {},
   "outputs": [],
   "source": [
    "pdf = pd.DataFrame(np.random.randn(1000, 4), index=pser.index,\n",
    "                   columns=['A', 'B', 'C', 'D'])"
   ]
  },
  {
   "cell_type": "code",
   "execution_count": null,
   "metadata": {},
   "outputs": [],
   "source": [
    "kdf = ks.from_pandas(pdf)"
   ]
  },
  {
   "cell_type": "code",
   "execution_count": null,
   "metadata": {},
   "outputs": [],
   "source": [
    "kdf = kdf.cummax()\n",
    "kdf"
   ]
  },
  {
   "cell_type": "code",
   "execution_count": null,
   "metadata": {},
   "outputs": [],
   "source": [
    "kdf.plot()"
   ]
  },
  {
   "cell_type": "markdown",
   "metadata": {},
   "source": [
    "### 6. Entrada / salida de datos\n"
   ]
  },
  {
   "cell_type": "markdown",
   "metadata": {},
   "source": [
    "### CSV\n",
    "\n",
    "CSV es sencillo y fácil de usar"
   ]
  },
  {
   "cell_type": "code",
   "execution_count": null,
   "metadata": {},
   "outputs": [],
   "source": [
    "kdf.to_csv('foo.csv')\n",
    "ks.read_csv('foo.csv').head(10)"
   ]
  },
  {
   "cell_type": "markdown",
   "metadata": {},
   "source": [
    "### Parquet\n",
    "\n",
    "Parquet es un formato de archivo eficiente y compacto para leer y escribir más rápido."
   ]
  },
  {
   "cell_type": "code",
   "execution_count": null,
   "metadata": {},
   "outputs": [],
   "source": [
    "kdf.to_parquet('bar.parquet')\n",
    "ks.read_parquet('bar.parquet').head(10)"
   ]
  },
  {
   "cell_type": "markdown",
   "metadata": {},
   "source": [
    "### Spark IO\n",
    "\n",
    "Además, Koalas es totalmente compatible con las diversas fuentes de datos de Spark, como ORC y una fuente de datos externa."
   ]
  },
  {
   "cell_type": "code",
   "execution_count": null,
   "metadata": {},
   "outputs": [],
   "source": [
    "kdf.to_spark_io('zoo.orc', format=\"orc\")\n",
    "ks.read_spark_io('zoo.orc', format=\"orc\").head(10)"
   ]
  },
  {
   "cell_type": "code",
   "execution_count": null,
   "metadata": {},
   "outputs": [],
   "source": []
  }
 ],
 "metadata": {
  "kernelspec": {
   "display_name": "Python 3 (ipykernel)",
   "language": "python",
   "name": "python3"
  },
  "language_info": {
   "codemirror_mode": {
    "name": "ipython",
    "version": 3
   },
   "file_extension": ".py",
   "mimetype": "text/x-python",
   "name": "python",
   "nbconvert_exporter": "python",
   "pygments_lexer": "ipython3",
   "version": "3.6.13"
  }
 },
 "nbformat": 4,
 "nbformat_minor": 1
}
