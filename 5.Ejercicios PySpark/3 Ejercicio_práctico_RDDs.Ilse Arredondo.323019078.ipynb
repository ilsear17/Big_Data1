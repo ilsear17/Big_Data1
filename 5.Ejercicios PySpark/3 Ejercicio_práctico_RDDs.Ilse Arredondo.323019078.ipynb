{
 "cells": [
  {
   "cell_type": "markdown",
   "id": "22bc4d93",
   "metadata": {},
   "source": [
    "# Ejercicio Práctico RDDs. Ilse Arredondo Reyes. 323019078"
   ]
  },
  {
   "cell_type": "code",
   "execution_count": 1,
   "id": "c1a214d6",
   "metadata": {},
   "outputs": [],
   "source": [
    "import findspark\n",
    "findspark.init()\n",
    "\n",
    "import pandas as pd\n",
    "import pyspark\n",
    "from pyspark.sql import SparkSession"
   ]
  },
  {
   "cell_type": "code",
   "execution_count": 2,
   "id": "fd5ce7b3",
   "metadata": {},
   "outputs": [
    {
     "data": {
      "text/plain": [
       "'C:\\\\Users\\\\ilse-\\\\anaconda3\\\\lib\\\\site-packages\\\\pyspark'"
      ]
     },
     "execution_count": 2,
     "metadata": {},
     "output_type": "execute_result"
    }
   ],
   "source": [
    "findspark.init()\n",
    "findspark.find()"
   ]
  },
  {
   "cell_type": "markdown",
   "id": "7f728464",
   "metadata": {},
   "source": [
    "## 1 Ejercicio multiplicación y filtrado"
   ]
  },
  {
   "cell_type": "code",
   "execution_count": 3,
   "id": "bd8b0d7c",
   "metadata": {},
   "outputs": [],
   "source": [
    "spark = SparkSession.builder.getOrCreate()\n",
    "sc = spark.sparkContext"
   ]
  },
  {
   "cell_type": "markdown",
   "id": "6a538a8e",
   "metadata": {},
   "source": [
    "Genera un RDD (newRDD) con la siguiente lista [1, 2, 3, 4, 5]"
   ]
  },
  {
   "cell_type": "code",
   "execution_count": 4,
   "id": "d853a4ec",
   "metadata": {},
   "outputs": [],
   "source": [
    "data= [1, 2, 3, 4, 5]\n",
    "\n",
    "myRDD= sc.parallelize(data)"
   ]
  },
  {
   "cell_type": "markdown",
   "id": "dd83c2f6",
   "metadata": {},
   "source": [
    "Multiplica por 2 todos los elementos del RDD anterior"
   ]
  },
  {
   "cell_type": "code",
   "execution_count": 5,
   "id": "a047081a",
   "metadata": {},
   "outputs": [],
   "source": [
    "myRDD_multiplicado = myRDD.map(lambda x: x * 2)"
   ]
  },
  {
   "cell_type": "markdown",
   "id": "fe793075",
   "metadata": {},
   "source": [
    "Filtra el RDD anterior por los elementos pares"
   ]
  },
  {
   "cell_type": "code",
   "execution_count": 6,
   "id": "b4ff42cf",
   "metadata": {},
   "outputs": [
    {
     "name": "stdout",
     "output_type": "stream",
     "text": [
      "[2, 4]\n"
     ]
    }
   ],
   "source": [
    "myRDD_filtrado = myRDD.filter(lambda x: x%2 ==0)\n",
    "print(myRDD_filtrado.collect())"
   ]
  },
  {
   "cell_type": "markdown",
   "id": "efcc2dcf",
   "metadata": {},
   "source": [
    "Muestra los elementos unicos del RDD"
   ]
  },
  {
   "cell_type": "code",
   "execution_count": 7,
   "id": "a4d9fb32",
   "metadata": {},
   "outputs": [
    {
     "name": "stdout",
     "output_type": "stream",
     "text": [
      "[2, 4, 6, 8, 10]\n"
     ]
    }
   ],
   "source": [
    "print(myRDD_multiplicado.collect())"
   ]
  },
  {
   "cell_type": "markdown",
   "id": "a9c41bea",
   "metadata": {},
   "source": [
    "## 2 Ejercicio Suma y orden"
   ]
  },
  {
   "cell_type": "code",
   "execution_count": 8,
   "id": "787c7986",
   "metadata": {},
   "outputs": [],
   "source": [
    "from operator import add\n",
    "\n",
    "myRDD2 = sc.parallelize([('a', 1), ('a', 2), ('a', 3), ('b', 1)])"
   ]
  },
  {
   "cell_type": "markdown",
   "id": "b1ec47f7",
   "metadata": {},
   "source": [
    "Obten la suma de los valores agrupados por el key"
   ]
  },
  {
   "cell_type": "code",
   "execution_count": 9,
   "id": "aa4c4a0f",
   "metadata": {},
   "outputs": [
    {
     "data": {
      "text/plain": [
       "[('a', 6), ('b', 1)]"
      ]
     },
     "execution_count": 9,
     "metadata": {},
     "output_type": "execute_result"
    }
   ],
   "source": [
    "resultado = myRDD2.reduceByKey(add)\n",
    "resultado.collect()"
   ]
  },
  {
   "cell_type": "markdown",
   "id": "30aaf8c4",
   "metadata": {},
   "source": [
    "Ordena los RDDs en base al key"
   ]
  },
  {
   "cell_type": "code",
   "execution_count": 10,
   "id": "1e0ac9af",
   "metadata": {},
   "outputs": [
    {
     "data": {
      "text/plain": [
       "[('b', 1), ('a', 1), ('a', 2), ('a', 3)]"
      ]
     },
     "execution_count": 10,
     "metadata": {},
     "output_type": "execute_result"
    }
   ],
   "source": [
    "myRDD2_ordenado = myRDD2.sortByKey(ascending=False)\n",
    "myRDD2_ordenado.collect()"
   ]
  },
  {
   "cell_type": "markdown",
   "id": "804ea35d",
   "metadata": {},
   "source": [
    "## 3 Ejercicio Multiplicacion"
   ]
  },
  {
   "cell_type": "code",
   "execution_count": 11,
   "id": "bfe2d705",
   "metadata": {},
   "outputs": [],
   "source": [
    "data= [1, 2, 3, 4, 5]\n",
    "\n",
    "myRDD3= sc.parallelize(data)"
   ]
  },
  {
   "cell_type": "markdown",
   "id": "57a7a8b8",
   "metadata": {},
   "source": [
    "Toma los elementos del RDD para multiplicarlos entre si y obtener un resultado"
   ]
  },
  {
   "cell_type": "code",
   "execution_count": 12,
   "id": "f450c9e4",
   "metadata": {},
   "outputs": [
    {
     "name": "stdout",
     "output_type": "stream",
     "text": [
      "120\n"
     ]
    }
   ],
   "source": [
    "resultado = myRDD3.reduce(lambda x, y: x * y)\n",
    "print(resultado)"
   ]
  },
  {
   "cell_type": "markdown",
   "id": "992d184d",
   "metadata": {},
   "source": [
    "## 4 Ejercicio Nro veces que aparece un valor"
   ]
  },
  {
   "cell_type": "code",
   "execution_count": 13,
   "id": "b6139be0",
   "metadata": {},
   "outputs": [],
   "source": [
    "data= ['Python', 'Scala', 'Python', 'R', 'Python', 'Java', 'R' ]\n",
    "\n",
    "myRDD4= sc.parallelize(data)"
   ]
  },
  {
   "cell_type": "markdown",
   "id": "9f71d095",
   "metadata": {},
   "source": [
    "Cuenta cuantas veces aparece cada valor"
   ]
  },
  {
   "cell_type": "code",
   "execution_count": 14,
   "id": "ede22d3d",
   "metadata": {},
   "outputs": [
    {
     "name": "stdout",
     "output_type": "stream",
     "text": [
      "Python: 3\n",
      "Scala: 1\n",
      "R: 2\n",
      "Java: 1\n"
     ]
    }
   ],
   "source": [
    "resultado = myRDD4.countByValue()\n",
    "\n",
    "for clave, valor in resultado.items():\n",
    "    print(f\"{clave}: {valor}\")"
   ]
  },
  {
   "cell_type": "markdown",
   "id": "0c78416d",
   "metadata": {},
   "source": [
    "## 5 Ejercicio Nro veces que aparece una de las keys"
   ]
  },
  {
   "cell_type": "code",
   "execution_count": 15,
   "id": "633f7716",
   "metadata": {},
   "outputs": [],
   "source": [
    "data= [('a', 1), ('b', 1), ('c', 1), ('a', 1)]\n",
    "myRDD5 = sc.parallelize(data)"
   ]
  },
  {
   "cell_type": "markdown",
   "id": "1f51be9f",
   "metadata": {},
   "source": [
    "Cuenta cuantas veces aparece cada una de las keys"
   ]
  },
  {
   "cell_type": "code",
   "execution_count": 16,
   "id": "e9935cf9",
   "metadata": {},
   "outputs": [
    {
     "name": "stdout",
     "output_type": "stream",
     "text": [
      "a: 2\n",
      "b: 1\n",
      "c: 1\n"
     ]
    }
   ],
   "source": [
    "resultado = myRDD5.countByKey()\n",
    "for clave, valor in resultado.items():\n",
    "    print(f\"{clave}: {valor}\")"
   ]
  }
 ],
 "metadata": {
  "kernelspec": {
   "display_name": "Python 3 (ipykernel)",
   "language": "python",
   "name": "python3"
  },
  "language_info": {
   "codemirror_mode": {
    "name": "ipython",
    "version": 3
   },
   "file_extension": ".py",
   "mimetype": "text/x-python",
   "name": "python",
   "nbconvert_exporter": "python",
   "pygments_lexer": "ipython3",
   "version": "3.10.13"
  }
 },
 "nbformat": 4,
 "nbformat_minor": 5
}
