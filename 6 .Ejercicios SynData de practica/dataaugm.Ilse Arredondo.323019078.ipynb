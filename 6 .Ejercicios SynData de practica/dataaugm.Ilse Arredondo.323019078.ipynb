{
 "cells": [
  {
   "cell_type": "code",
   "execution_count": 6,
   "metadata": {},
   "outputs": [],
   "source": [
    "import os\n",
    "from PIL import Image\n",
    "import imgaug.augmenters as iaa\n",
    "import imgaug as ia\n",
    "import numpy as np"
   ]
  },
  {
   "cell_type": "code",
   "execution_count": 3,
   "metadata": {},
   "outputs": [],
   "source": [
    "carpeta_origen = 'C:/Users/ilse-/mias-mammography/mias-mammography/all-mias-roi' \n",
    "carpeta_destino = 'C:/Users/ilse-/mias-mammography/mias-mammography/all-mias-roi-jpg'"
   ]
  },
  {
   "cell_type": "code",
   "execution_count": 4,
   "metadata": {},
   "outputs": [],
   "source": [
    "seq = iaa.Sequential([\n",
    "    iaa.Fliplr(0.5),\n",
    "    iaa.GaussianBlur(sigma=(0, 1.0)),\n",
    "    iaa.Affine(scale=(0.8, 1.2))\n",
    "])"
   ]
  },
  {
   "cell_type": "code",
   "execution_count": 5,
   "metadata": {},
   "outputs": [
    {
     "name": "stdout",
     "output_type": "stream",
     "text": [
      "Conversión y aumento de datos completado.\n"
     ]
    }
   ],
   "source": [
    "for nombre_archivo in os.listdir(carpeta_origen):\n",
    "    if nombre_archivo.endswith('.pgm'):\n",
    "        ruta_archivo_origen = os.path.join(carpeta_origen, nombre_archivo)\n",
    "        imagen = Image.open(ruta_archivo_origen)\n",
    "        \n",
    "        imagen_rgb = imagen.convert('RGB')\n",
    "        \n",
    "        imagen_augmentada = seq.augment_image(np.array(imagen_rgb))\n",
    "        \n",
    "        imagen_final = Image.fromarray(imagen_augmentada)\n",
    "        \n",
    "        nombre_destino = nombre_archivo.replace('.pgm', '_augmented.jpg')\n",
    "        ruta_archivo_destino = os.path.join(carpeta_destino, nombre_destino)\n",
    "        imagen_final.save(ruta_archivo_destino, 'JPEG')\n",
    "\n",
    "print(\"Conversión y aumento de datos completado.\")"
   ]
  }
 ],
 "metadata": {
  "kernelspec": {
   "display_name": "Python 3 (ipykernel)",
   "language": "python",
   "name": "python3"
  },
  "language_info": {
   "codemirror_mode": {
    "name": "ipython",
    "version": 3
   },
   "file_extension": ".py",
   "mimetype": "text/x-python",
   "name": "python",
   "nbconvert_exporter": "python",
   "pygments_lexer": "ipython3",
   "version": "3.10.13"
  }
 },
 "nbformat": 4,
 "nbformat_minor": 2
}
